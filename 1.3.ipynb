{
 "cells": [
  {
   "cell_type": "markdown",
   "id": "18d6a029-0b47-4a7b-8864-c87c34d7c1d0",
   "metadata": {},
   "source": [
    "# Project Title"
   ]
  },
  {
   "cell_type": "markdown",
   "id": "c86e9a50-8603-4d16-acdf-1fe4be874a33",
   "metadata": {},
   "source": [
    "## Number Calculation\n",
    "there are **calculation example**\n",
    "\n",
    "there are **_calculation example_**\n",
    "\n",
    "there are _calculation example_\n",
    "\n",
    "there are ***caculation example***\n",
    "\n",
    "there are *caculation example*\n",
    "\n",
    "there are __caculation example__\n",
    "\n",
    "there are ___caculation example___\n",
    "\n",
    "there are *__caculation example__*\n",
    "\n",
    "there are _**caculation example**_\n",
    "\n",
    "there are _*_caculation example_*_"
   ]
  },
  {
   "cell_type": "markdown",
   "id": "a20b0d1d-0531-459f-87bb-dc7fdffb7562",
   "metadata": {},
   "source": [
    "## Number List\n",
    "1. first item\n",
    "2. second item\n",
    "3. third item\n",
    "    1. Sub item 3.1\n",
    "    2. Sub item 3.2"
   ]
  },
  {
   "attachments": {},
   "cell_type": "markdown",
   "id": "512b9723-9d40-4ef8-8924-76ee548aab3d",
   "metadata": {},
   "source": [
    "Click [here](1.2.ipynb) to open 1.2"
   ]
  },
  {
   "cell_type": "markdown",
   "id": "ce2a57c1-dcc8-4c84-8689-4bae398cba05",
   "metadata": {},
   "source": [
    "[Click here to open 1.1](1.1.ipynb)"
   ]
  },
  {
   "cell_type": "code",
   "execution_count": 142,
   "id": "1a1ccdfb-8cf1-4039-b685-27dc15d21175",
   "metadata": {},
   "outputs": [
    {
     "name": "stdout",
     "output_type": "stream",
     "text": [
      "Hello World From Jupyterlab\n"
     ]
    }
   ],
   "source": [
    "print(\"Hello World From Jupyterlab\")"
   ]
  },
  {
   "cell_type": "markdown",
   "id": "98b52a07-c25c-4095-90aa-26f446310b9d",
   "metadata": {},
   "source": [
    "# Number List\n",
    "\n",
    "1. first item\n",
    "2. second item\n",
    "3. third item\n",
    "       \n",
    "       3.1 Sub item 1\n",
    "       3.2 Sub item 2\n",
    "       3.3 Sub item 3"
   ]
  },
  {
   "cell_type": "markdown",
   "id": "cebfdf6f-ff2f-46d3-88ca-0760419f32f0",
   "metadata": {},
   "source": [
    "## Number List\n",
    "1. first item\n",
    "2. second item\n",
    "3. third item\n",
    "    1.  Sub item 1\n",
    "    2.  Sub item 2\n",
    "    3.  Sub item 3"
   ]
  },
  {
   "cell_type": "markdown",
   "id": "20fa8b56-6b86-4a38-be6d-36b4ff784a10",
   "metadata": {},
   "source": [
    "### Dot Point\n",
    "* Point 1\n",
    "* Point 2\n",
    "* Point 3\n",
    "    * Subpoint 2.0\n",
    "    * Subpoint 2.1\n",
    "    * Subpoint 2.2\n",
    "    * Subpoint 2.3"
   ]
  },
  {
   "cell_type": "markdown",
   "id": "b5506236-6386-41a9-bb13-af08f309710a",
   "metadata": {},
   "source": [
    "# line\n",
    "\"Hello world from jupyterlab\"\n",
    "***"
   ]
  },
  {
   "cell_type": "markdown",
   "id": "47478d99-41bf-4c32-ac89-b02ab298341c",
   "metadata": {},
   "source": [
    "# Math Symbols\n",
    "\n",
    "$X = 5^2$"
   ]
  },
  {
   "cell_type": "code",
   "execution_count": 68,
   "id": "fb43176f-0108-497d-bb0c-cbea54a8f411",
   "metadata": {},
   "outputs": [
    {
     "data": {
      "text/plain": [
       "25"
      ]
     },
     "execution_count": 68,
     "metadata": {},
     "output_type": "execute_result"
    }
   ],
   "source": [
    "5**2"
   ]
  },
  {
   "cell_type": "code",
   "execution_count": 190,
   "id": "7c991c47-5911-4d8b-9671-f57a7db6b1b5",
   "metadata": {},
   "outputs": [
    {
     "data": {
      "text/plain": [
       "6"
      ]
     },
     "execution_count": 190,
     "metadata": {},
     "output_type": "execute_result"
    }
   ],
   "source": [
    "5^3"
   ]
  },
  {
   "cell_type": "code",
   "execution_count": 79,
   "id": "79f1b391-80c6-429c-abe5-ad2e65855309",
   "metadata": {},
   "outputs": [
    {
     "name": "stdout",
     "output_type": "stream",
     "text": [
      "Double quotes\n",
      "Single quotes\n",
      "20\n",
      "1010\n",
      "20\n",
      "10 + 10\n"
     ]
    }
   ],
   "source": [
    "print (\"Double quotes\")\n",
    "print ('Single quotes')\n",
    "print (10 + 10)\n",
    "print (\"10\" + \"10\")\n",
    "print (10 * 2)\n",
    "print (\"10 + 10\")"
   ]
  },
  {
   "cell_type": "code",
   "execution_count": 83,
   "id": "488c28a4-fde0-4482-897b-30f762bde705",
   "metadata": {},
   "outputs": [],
   "source": [
    "firstValuable = \"Hello World Form JupyterLab\""
   ]
  },
  {
   "cell_type": "code",
   "execution_count": 88,
   "id": "0ae28295-50d0-458f-8e39-d7aee99a0d86",
   "metadata": {},
   "outputs": [
    {
     "name": "stdout",
     "output_type": "stream",
     "text": [
      "Hello World Form JupyterLab\n"
     ]
    }
   ],
   "source": [
    "print (firstValuable)"
   ]
  },
  {
   "cell_type": "code",
   "execution_count": 90,
   "id": "75246848-90fc-4a98-a327-7160a73e1999",
   "metadata": {},
   "outputs": [
    {
     "name": "stdout",
     "output_type": "stream",
     "text": [
      "firstValuable\n"
     ]
    }
   ],
   "source": [
    "print (\"firstValuable\")"
   ]
  },
  {
   "cell_type": "code",
   "execution_count": 96,
   "id": "6cc254ac-6aab-4818-b07f-e7224a5858cc",
   "metadata": {},
   "outputs": [
    {
     "data": {
      "text/plain": [
       "27"
      ]
     },
     "execution_count": 96,
     "metadata": {},
     "output_type": "execute_result"
    }
   ],
   "source": [
    "len (firstValuable)"
   ]
  },
  {
   "cell_type": "code",
   "execution_count": 98,
   "id": "cc6a1281-bd7c-4ce9-b71c-3a8057d84529",
   "metadata": {},
   "outputs": [
    {
     "data": {
      "text/plain": [
       "13"
      ]
     },
     "execution_count": 98,
     "metadata": {},
     "output_type": "execute_result"
    }
   ],
   "source": [
    "len (\"firstValuable\")"
   ]
  },
  {
   "cell_type": "code",
   "execution_count": 188,
   "id": "7a61d95b-b050-4c90-b9c3-c1c92a7d8e3f",
   "metadata": {},
   "outputs": [],
   "source": [
    "Mynumber = 10\n",
    "myNumber = 20\n",
    "Mysecondnumber = 30"
   ]
  },
  {
   "cell_type": "code",
   "execution_count": 135,
   "id": "a2390e41-8240-49b8-b2b5-ddf4d9a645a1",
   "metadata": {},
   "outputs": [
    {
     "name": "stdout",
     "output_type": "stream",
     "text": [
      "30\n"
     ]
    }
   ],
   "source": [
    "print (Mynumber + myNumber)"
   ]
  },
  {
   "cell_type": "code",
   "execution_count": 130,
   "id": "88523ee9-02d9-4d39-a778-295e15fc22c0",
   "metadata": {
    "scrolled": true
   },
   "outputs": [
    {
     "name": "stdout",
     "output_type": "stream",
     "text": [
      "30\n"
     ]
    }
   ],
   "source": [
    "print (Mynumber+myNumber)"
   ]
  },
  {
   "cell_type": "code",
   "execution_count": 126,
   "id": "8574dad0-bc4a-43d7-b535-9f54e58325fd",
   "metadata": {},
   "outputs": [
    {
     "name": "stdout",
     "output_type": "stream",
     "text": [
      "Mynumber + myNumber\n"
     ]
    }
   ],
   "source": [
    "print (\"Mynumber + myNumber\")"
   ]
  },
  {
   "cell_type": "code",
   "execution_count": 116,
   "id": "3a6a01eb-1e39-4c98-b3ac-9376cb764428",
   "metadata": {},
   "outputs": [
    {
     "name": "stdout",
     "output_type": "stream",
     "text": [
      "200\n"
     ]
    }
   ],
   "source": [
    "print (Mynumber * myNumber)"
   ]
  },
  {
   "cell_type": "code",
   "execution_count": 118,
   "id": "210715df-8f84-4665-b1f3-5a62dc257dea",
   "metadata": {},
   "outputs": [
    {
     "name": "stdout",
     "output_type": "stream",
     "text": [
      "0.5\n"
     ]
    }
   ],
   "source": [
    "print (Mynumber / myNumber)"
   ]
  },
  {
   "cell_type": "code",
   "execution_count": 122,
   "id": "3bb9a388-2c76-416a-9cd4-78626224033e",
   "metadata": {},
   "outputs": [
    {
     "name": "stdout",
     "output_type": "stream",
     "text": [
      "100\n"
     ]
    }
   ],
   "source": [
    "print (Mynumber**2)"
   ]
  },
  {
   "cell_type": "code",
   "execution_count": 11,
   "id": "ad67999e-6425-4b87-ad76-a8091b03a54b",
   "metadata": {},
   "outputs": [
    {
     "name": "stdout",
     "output_type": "stream",
     "text": [
      "Hello!\\how are you?\\I love programming\n"
     ]
    }
   ],
   "source": [
    "print(\"Hello!\", \"how are you?\", \"I love programming\",sep=\"\\\\\")"
   ]
  },
  {
   "cell_type": "code",
   "execution_count": null,
   "id": "32528a72-d960-4e04-9889-2c7880c584a7",
   "metadata": {},
   "outputs": [],
   "source": []
  }
 ],
 "metadata": {
  "kernelspec": {
   "display_name": "Python 3 (ipykernel)",
   "language": "python",
   "name": "python3"
  },
  "language_info": {
   "codemirror_mode": {
    "name": "ipython",
    "version": 3
   },
   "file_extension": ".py",
   "mimetype": "text/x-python",
   "name": "python",
   "nbconvert_exporter": "python",
   "pygments_lexer": "ipython3",
   "version": "3.12.4"
  }
 },
 "nbformat": 4,
 "nbformat_minor": 5
}
