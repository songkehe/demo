{
 "cells": [
  {
   "cell_type": "code",
   "execution_count": 1,
   "id": "dfc7f0f7-59db-4a5e-8f07-f0e96708b2fa",
   "metadata": {},
   "outputs": [],
   "source": [
    "first_name = \"songke\""
   ]
  },
  {
   "cell_type": "code",
   "execution_count": 3,
   "id": "3a7a858a-b326-457c-b14f-b7fe39908c4f",
   "metadata": {},
   "outputs": [
    {
     "name": "stdout",
     "output_type": "stream",
     "text": [
      "songke\n"
     ]
    }
   ],
   "source": [
    "print(first_name)"
   ]
  },
  {
   "cell_type": "code",
   "execution_count": 13,
   "id": "a3550837-d3f5-4170-8d4a-232383acde0c",
   "metadata": {},
   "outputs": [
    {
     "name": "stdout",
     "output_type": "stream",
     "text": [
      "hsk\n"
     ]
    }
   ],
   "source": [
    "print(second_name)"
   ]
  },
  {
   "cell_type": "code",
   "execution_count": 9,
   "id": "5771cc05-8840-40ca-b7f6-0d3939847526",
   "metadata": {
    "scrolled": true
   },
   "outputs": [],
   "source": [
    "second_name = \"hsk\""
   ]
  },
  {
   "cell_type": "code",
   "execution_count": 15,
   "id": "dbc45ebb-4f0f-4962-a96d-91b00efed81b",
   "metadata": {},
   "outputs": [],
   "source": [
    "third_name = \"tyz\""
   ]
  },
  {
   "cell_type": "code",
   "execution_count": 17,
   "id": "117250e1-06e5-4fa0-b50f-80aad72e38bb",
   "metadata": {},
   "outputs": [],
   "source": [
    "forth_name = None"
   ]
  },
  {
   "cell_type": "code",
   "execution_count": 23,
   "id": "a1e50e2f-8fee-4fcb-b66c-a9c069f510a4",
   "metadata": {},
   "outputs": [],
   "source": [
    "fifth_name = \" \""
   ]
  },
  {
   "cell_type": "code",
   "execution_count": 19,
   "id": "fe9be749-6059-4ef6-9e8c-20b71f3d3330",
   "metadata": {},
   "outputs": [
    {
     "name": "stdout",
     "output_type": "stream",
     "text": [
      "songkehsktyz\n"
     ]
    }
   ],
   "source": [
    "print(first_name+second_name+third_name)"
   ]
  },
  {
   "cell_type": "code",
   "execution_count": 21,
   "id": "a5edc6ef-69c3-4f6e-9881-c28cd203392e",
   "metadata": {},
   "outputs": [
    {
     "ename": "TypeError",
     "evalue": "can only concatenate str (not \"NoneType\") to str",
     "output_type": "error",
     "traceback": [
      "\u001b[1;31m---------------------------------------------------------------------------\u001b[0m",
      "\u001b[1;31mTypeError\u001b[0m                                 Traceback (most recent call last)",
      "Cell \u001b[1;32mIn[21], line 1\u001b[0m\n\u001b[1;32m----> 1\u001b[0m \u001b[38;5;28mprint\u001b[39m(first_name\u001b[38;5;241m+\u001b[39mthird_name\u001b[38;5;241m+\u001b[39mforth_name)\n",
      "\u001b[1;31mTypeError\u001b[0m: can only concatenate str (not \"NoneType\") to str"
     ]
    }
   ],
   "source": [
    "print(first_name+third_name+forth_name)"
   ]
  },
  {
   "cell_type": "code",
   "execution_count": 27,
   "id": "7c3edb33-d9e8-4f50-8efa-6995d342ff60",
   "metadata": {},
   "outputs": [
    {
     "name": "stdout",
     "output_type": "stream",
     "text": [
      "songkehsk \n"
     ]
    }
   ],
   "source": [
    "print(first_name+second_name+fifth_name)"
   ]
  },
  {
   "cell_type": "code",
   "execution_count": 29,
   "id": "e5b34458-6a10-4d08-8c07-012bf73b754d",
   "metadata": {},
   "outputs": [
    {
     "name": "stdout",
     "output_type": "stream",
     "text": [
      "songke hsk\n"
     ]
    }
   ],
   "source": [
    "print(first_name+fifth_name+second_name)"
   ]
  },
  {
   "cell_type": "code",
   "execution_count": 31,
   "id": "d359c74f-196e-4f25-989c-406c076c7e4d",
   "metadata": {},
   "outputs": [
    {
     "ename": "SyntaxError",
     "evalue": "invalid decimal literal (4051535038.py, line 1)",
     "output_type": "error",
     "traceback": [
      "\u001b[1;36m  Cell \u001b[1;32mIn[31], line 1\u001b[1;36m\u001b[0m\n\u001b[1;33m    print(name1+2ndName)\u001b[0m\n\u001b[1;37m                ^\u001b[0m\n\u001b[1;31mSyntaxError\u001b[0m\u001b[1;31m:\u001b[0m invalid decimal literal\n"
     ]
    }
   ],
   "source": [
    "print(name1+2ndName)"
   ]
  },
  {
   "cell_type": "code",
   "execution_count": 33,
   "id": "666dcb69-9104-4b80-a43f-e0c6cd93d02a",
   "metadata": {},
   "outputs": [
    {
     "ename": "SyntaxError",
     "evalue": "invalid syntax (1035240621.py, line 1)",
     "output_type": "error",
     "traceback": [
      "\u001b[1;36m  Cell \u001b[1;32mIn[33], line 1\u001b[1;36m\u001b[0m\n\u001b[1;33m    print(first_name+total$)\u001b[0m\n\u001b[1;37m                          ^\u001b[0m\n\u001b[1;31mSyntaxError\u001b[0m\u001b[1;31m:\u001b[0m invalid syntax\n"
     ]
    }
   ],
   "source": [
    "print(first_name+total$)"
   ]
  },
  {
   "cell_type": "code",
   "execution_count": 39,
   "id": "1557deec-6621-4fa0-9330-935cbb339112",
   "metadata": {},
   "outputs": [
    {
     "ename": "NameError",
     "evalue": "name 'first' is not defined",
     "output_type": "error",
     "traceback": [
      "\u001b[1;31m---------------------------------------------------------------------------\u001b[0m",
      "\u001b[1;31mNameError\u001b[0m                                 Traceback (most recent call last)",
      "Cell \u001b[1;32mIn[39], line 1\u001b[0m\n\u001b[1;32m----> 1\u001b[0m \u001b[38;5;28mprint\u001b[39m(first\u001b[38;5;241m&\u001b[39mlast\u001b[38;5;241m+\u001b[39mA_Name)\n",
      "\u001b[1;31mNameError\u001b[0m: name 'first' is not defined"
     ]
    }
   ],
   "source": [
    "print(first&last+A_Name)"
   ]
  },
  {
   "cell_type": "code",
   "execution_count": 41,
   "id": "c98ede7f-4af9-46ea-8d31-61b7fcbfc4d8",
   "metadata": {},
   "outputs": [
    {
     "ename": "SyntaxError",
     "evalue": "invalid syntax (3443498397.py, line 1)",
     "output_type": "error",
     "traceback": [
      "\u001b[1;36m  Cell \u001b[1;32mIn[41], line 1\u001b[1;36m\u001b[0m\n\u001b[1;33m    print(%age+user_address)\u001b[0m\n\u001b[1;37m          ^\u001b[0m\n\u001b[1;31mSyntaxError\u001b[0m\u001b[1;31m:\u001b[0m invalid syntax\n"
     ]
    }
   ],
   "source": [
    "print(%age+user_address)"
   ]
  },
  {
   "cell_type": "code",
   "execution_count": 43,
   "id": "7aa168a2-7796-43f3-a1ef-443a4936d8ed",
   "metadata": {},
   "outputs": [
    {
     "ename": "SyntaxError",
     "evalue": "invalid syntax (2765399117.py, line 1)",
     "output_type": "error",
     "traceback": [
      "\u001b[1;36m  Cell \u001b[1;32mIn[43], line 1\u001b[1;36m\u001b[0m\n\u001b[1;33m    print(True_value+class)\u001b[0m\n\u001b[1;37m                     ^\u001b[0m\n\u001b[1;31mSyntaxError\u001b[0m\u001b[1;31m:\u001b[0m invalid syntax\n"
     ]
    }
   ],
   "source": [
    "print(True_value+class)"
   ]
  },
  {
   "cell_type": "code",
   "execution_count": 45,
   "id": "4c1e756c-0a6e-41c7-a093-c7ec7aaecf97",
   "metadata": {},
   "outputs": [
    {
     "ename": "NameError",
     "evalue": "name 'name1' is not defined",
     "output_type": "error",
     "traceback": [
      "\u001b[1;31m---------------------------------------------------------------------------\u001b[0m",
      "\u001b[1;31mNameError\u001b[0m                                 Traceback (most recent call last)",
      "Cell \u001b[1;32mIn[45], line 1\u001b[0m\n\u001b[1;32m----> 1\u001b[0m \u001b[38;5;28mprint\u001b[39m(name1\u001b[38;5;241m+\u001b[39mfirst_name)\n",
      "\u001b[1;31mNameError\u001b[0m: name 'name1' is not defined"
     ]
    }
   ],
   "source": [
    "print(name1+first_name)"
   ]
  },
  {
   "cell_type": "code",
   "execution_count": 47,
   "id": "ab037228-b350-4596-90ae-0751246b55fd",
   "metadata": {},
   "outputs": [
    {
     "ename": "SyntaxError",
     "evalue": "invalid syntax (390396425.py, line 1)",
     "output_type": "error",
     "traceback": [
      "\u001b[1;36m  Cell \u001b[1;32mIn[47], line 1\u001b[1;36m\u001b[0m\n\u001b[1;33m    print(name1+total$)\u001b[0m\n\u001b[1;37m                     ^\u001b[0m\n\u001b[1;31mSyntaxError\u001b[0m\u001b[1;31m:\u001b[0m invalid syntax\n"
     ]
    }
   ],
   "source": [
    "print(name1+total$)"
   ]
  },
  {
   "cell_type": "code",
   "execution_count": 49,
   "id": "e3b32c2a-dcb7-4968-8dd0-71d6017889b4",
   "metadata": {},
   "outputs": [
    {
     "ename": "NameError",
     "evalue": "name 'name1' is not defined",
     "output_type": "error",
     "traceback": [
      "\u001b[1;31m---------------------------------------------------------------------------\u001b[0m",
      "\u001b[1;31mNameError\u001b[0m                                 Traceback (most recent call last)",
      "Cell \u001b[1;32mIn[49], line 1\u001b[0m\n\u001b[1;32m----> 1\u001b[0m \u001b[38;5;28mprint\u001b[39m(name1\u001b[38;5;241m+\u001b[39mfirst\u001b[38;5;241m&\u001b[39mlast)\n",
      "\u001b[1;31mNameError\u001b[0m: name 'name1' is not defined"
     ]
    }
   ],
   "source": [
    "print(name1+first&last)"
   ]
  },
  {
   "cell_type": "code",
   "execution_count": 51,
   "id": "fb1a2e90-d496-4a80-9578-d2bff35609b1",
   "metadata": {},
   "outputs": [
    {
     "ename": "NameError",
     "evalue": "name 'name1' is not defined",
     "output_type": "error",
     "traceback": [
      "\u001b[1;31m---------------------------------------------------------------------------\u001b[0m",
      "\u001b[1;31mNameError\u001b[0m                                 Traceback (most recent call last)",
      "Cell \u001b[1;32mIn[51], line 1\u001b[0m\n\u001b[1;32m----> 1\u001b[0m \u001b[38;5;28mprint\u001b[39m(name1\u001b[38;5;241m+\u001b[39mA_Name)\n",
      "\u001b[1;31mNameError\u001b[0m: name 'name1' is not defined"
     ]
    }
   ],
   "source": [
    "print(name1+A_Name)"
   ]
  },
  {
   "cell_type": "code",
   "execution_count": 53,
   "id": "30963759-4fb8-4b82-bb56-b5b3dfb6a5b4",
   "metadata": {},
   "outputs": [
    {
     "ename": "SyntaxError",
     "evalue": "invalid syntax (1352572358.py, line 1)",
     "output_type": "error",
     "traceback": [
      "\u001b[1;36m  Cell \u001b[1;32mIn[53], line 1\u001b[1;36m\u001b[0m\n\u001b[1;33m    print(name1+%age)\u001b[0m\n\u001b[1;37m                ^\u001b[0m\n\u001b[1;31mSyntaxError\u001b[0m\u001b[1;31m:\u001b[0m invalid syntax\n"
     ]
    }
   ],
   "source": [
    "print(name1+%age)"
   ]
  },
  {
   "cell_type": "code",
   "execution_count": 55,
   "id": "f73f9298-4120-43f7-bbcc-8690d96ed1ea",
   "metadata": {
    "scrolled": true
   },
   "outputs": [
    {
     "ename": "NameError",
     "evalue": "name 'rohith0' is not defined",
     "output_type": "error",
     "traceback": [
      "\u001b[1;31m---------------------------------------------------------------------------\u001b[0m",
      "\u001b[1;31mNameError\u001b[0m                                 Traceback (most recent call last)",
      "Cell \u001b[1;32mIn[55], line 1\u001b[0m\n\u001b[1;32m----> 1\u001b[0m \u001b[38;5;28mprint\u001b[39m(name1 \u001b[38;5;241m=\u001b[39m rohith0)\n",
      "\u001b[1;31mNameError\u001b[0m: name 'rohith0' is not defined"
     ]
    }
   ],
   "source": [
    "print(name1 = rohith0)"
   ]
  },
  {
   "cell_type": "code",
   "execution_count": 57,
   "id": "04ad79f0-67c0-45bd-8c1b-5d9ed0dd6cfe",
   "metadata": {},
   "outputs": [
    {
     "ename": "NameError",
     "evalue": "name 'qoq' is not defined",
     "output_type": "error",
     "traceback": [
      "\u001b[1;31m---------------------------------------------------------------------------\u001b[0m",
      "\u001b[1;31mNameError\u001b[0m                                 Traceback (most recent call last)",
      "Cell \u001b[1;32mIn[57], line 1\u001b[0m\n\u001b[1;32m----> 1\u001b[0m name \u001b[38;5;241m=\u001b[39m qoq\n",
      "\u001b[1;31mNameError\u001b[0m: name 'qoq' is not defined"
     ]
    }
   ],
   "source": [
    "name = qoq"
   ]
  },
  {
   "cell_type": "code",
   "execution_count": 59,
   "id": "5c968f0f-1c9c-4850-978f-9d7048d805f1",
   "metadata": {},
   "outputs": [],
   "source": [
    "name = \"qoqo\""
   ]
  },
  {
   "cell_type": "code",
   "execution_count": 61,
   "id": "93d4caed-5421-42cf-a816-4b64a932e66a",
   "metadata": {},
   "outputs": [],
   "source": [
    "firstName = \"sk\"\n",
    "first_name = \"sk\""
   ]
  },
  {
   "cell_type": "code",
   "execution_count": 63,
   "id": "d2a7bca6-6fd7-482f-bc41-478b32bf52d1",
   "metadata": {},
   "outputs": [
    {
     "data": {
      "text/plain": [
       "str"
      ]
     },
     "execution_count": 63,
     "metadata": {},
     "output_type": "execute_result"
    }
   ],
   "source": [
    "type(firstName)"
   ]
  },
  {
   "cell_type": "code",
   "execution_count": 65,
   "id": "e3c8b78e-f604-4ac0-a696-826e7ba0dbde",
   "metadata": {},
   "outputs": [],
   "source": [
    "x = 10\n",
    "y = \"10\"\n",
    "z = 10.0\n",
    "a = True"
   ]
  },
  {
   "cell_type": "code",
   "execution_count": 67,
   "id": "3bc239a8-fff7-494b-9552-1c3d99f580f5",
   "metadata": {},
   "outputs": [
    {
     "name": "stdout",
     "output_type": "stream",
     "text": [
      "<class 'int'>\n",
      "<class 'str'>\n",
      "<class 'float'>\n"
     ]
    }
   ],
   "source": [
    "print(type(x))\n",
    "print(type(y))\n",
    "print(type(z))"
   ]
  },
  {
   "cell_type": "code",
   "execution_count": 69,
   "id": "9f2413a3-100a-41b1-b827-c636468251ca",
   "metadata": {},
   "outputs": [
    {
     "name": "stdout",
     "output_type": "stream",
     "text": [
      "<class 'bool'>\n"
     ]
    }
   ],
   "source": [
    "print(type(a))"
   ]
  },
  {
   "cell_type": "code",
   "execution_count": 4,
   "id": "30480554-847d-4d8b-b67a-840aab762a69",
   "metadata": {},
   "outputs": [],
   "source": [
    "x = 5"
   ]
  },
  {
   "cell_type": "code",
   "execution_count": 6,
   "id": "8aca7642-2215-4460-b823-d363e1b3d29f",
   "metadata": {},
   "outputs": [
    {
     "ename": "TypeError",
     "evalue": "can only concatenate str (not \"int\") to str",
     "output_type": "error",
     "traceback": [
      "\u001b[1;31m---------------------------------------------------------------------------\u001b[0m",
      "\u001b[1;31mTypeError\u001b[0m                                 Traceback (most recent call last)",
      "Cell \u001b[1;32mIn[6], line 1\u001b[0m\n\u001b[1;32m----> 1\u001b[0m \u001b[38;5;28mprint\u001b[39m(\u001b[38;5;124m\"\u001b[39m\u001b[38;5;124mThe value of x is\u001b[39m\u001b[38;5;124m\"\u001b[39m \u001b[38;5;241m+\u001b[39m x)\n",
      "\u001b[1;31mTypeError\u001b[0m: can only concatenate str (not \"int\") to str"
     ]
    }
   ],
   "source": [
    "print(\"The value of x is\" + x)"
   ]
  },
  {
   "cell_type": "code",
   "execution_count": 8,
   "id": "c23551b4-b8d3-49e7-a8f5-89ba60856ec6",
   "metadata": {},
   "outputs": [
    {
     "name": "stdout",
     "output_type": "stream",
     "text": [
      "The value of x is 5\n"
     ]
    }
   ],
   "source": [
    "print(f\"The value of x is {x}\")"
   ]
  },
  {
   "cell_type": "code",
   "execution_count": 10,
   "id": "63f7e5a1-02a3-45aa-8179-116d07847a31",
   "metadata": {},
   "outputs": [
    {
     "name": "stdout",
     "output_type": "stream",
     "text": [
      "The value of x is 5\n"
     ]
    }
   ],
   "source": [
    "print(f\"The value of x is {x}\")"
   ]
  },
  {
   "cell_type": "code",
   "execution_count": 12,
   "id": "5adebac6-34a6-4e36-b34e-1c85077847c4",
   "metadata": {},
   "outputs": [
    {
     "name": "stdout",
     "output_type": "stream",
     "text": [
      "The value of x is {x}\n"
     ]
    }
   ],
   "source": [
    "print(\"The value of x is {x}\")"
   ]
  },
  {
   "cell_type": "code",
   "execution_count": 79,
   "id": "8996c0d4-1af7-4538-9be6-b851486cf292",
   "metadata": {},
   "outputs": [
    {
     "ename": "SyntaxError",
     "evalue": "invalid syntax (4255026741.py, line 1)",
     "output_type": "error",
     "traceback": [
      "\u001b[1;36m  Cell \u001b[1;32mIn[79], line 1\u001b[1;36m\u001b[0m\n\u001b[1;33m    print(z\"The value of x is {x}\")\u001b[0m\n\u001b[1;37m           ^\u001b[0m\n\u001b[1;31mSyntaxError\u001b[0m\u001b[1;31m:\u001b[0m invalid syntax\n"
     ]
    }
   ],
   "source": [
    "print(z\"The value of x is {x}\")"
   ]
  },
  {
   "cell_type": "code",
   "execution_count": 81,
   "id": "827cdc59-2129-4b96-9881-1311c5b6f020",
   "metadata": {},
   "outputs": [],
   "source": [
    "Name = \"hsk\"\n",
    "Age = 24"
   ]
  },
  {
   "cell_type": "code",
   "execution_count": 83,
   "id": "e66db6fc-a89d-4a77-a3a5-7e67e977f4e7",
   "metadata": {},
   "outputs": [
    {
     "name": "stdout",
     "output_type": "stream",
     "text": [
      "My name is hsk and i am 24 years old\n"
     ]
    }
   ],
   "source": [
    "print(f\"My name is {Name} and i am {Age} years old\")"
   ]
  },
  {
   "cell_type": "code",
   "execution_count": 85,
   "id": "8c8cd13e-325d-47a3-a20f-5706ebc0f766",
   "metadata": {},
   "outputs": [
    {
     "data": {
      "text/plain": [
       "3.3333333333333335"
      ]
     },
     "execution_count": 85,
     "metadata": {},
     "output_type": "execute_result"
    }
   ],
   "source": [
    "10/3"
   ]
  },
  {
   "cell_type": "code",
   "execution_count": 90,
   "id": "cbe1d248-4df8-4c74-9d09-0e64d00e11c3",
   "metadata": {},
   "outputs": [
    {
     "data": {
      "text/plain": [
       "18"
      ]
     },
     "execution_count": 90,
     "metadata": {},
     "output_type": "execute_result"
    }
   ],
   "source": [
    "len(\"3.3333333333333335\")"
   ]
  },
  {
   "cell_type": "code",
   "execution_count": 29,
   "id": "4a7e318e-5ca4-42c1-a86f-e1fd9ce66db0",
   "metadata": {},
   "outputs": [
    {
     "data": {
      "text/plain": [
       "3.33333"
      ]
     },
     "execution_count": 29,
     "metadata": {},
     "output_type": "execute_result"
    }
   ],
   "source": [
    "round(10 / 3,5)"
   ]
  },
  {
   "cell_type": "code",
   "execution_count": 2,
   "id": "d046c085-d486-46f2-a0bb-f9a9fd267e86",
   "metadata": {},
   "outputs": [
    {
     "data": {
      "text/plain": [
       "200000.0"
      ]
     },
     "execution_count": 2,
     "metadata": {},
     "output_type": "execute_result"
    }
   ],
   "source": [
    "2e5"
   ]
  },
  {
   "cell_type": "code",
   "execution_count": 4,
   "id": "99e2546c-63ef-416e-8685-4e10bb8ed608",
   "metadata": {},
   "outputs": [
    {
     "data": {
      "text/plain": [
       "200000"
      ]
     },
     "execution_count": 4,
     "metadata": {},
     "output_type": "execute_result"
    }
   ],
   "source": [
    "2 * 10**5"
   ]
  },
  {
   "cell_type": "code",
   "execution_count": 98,
   "id": "f02e273e-c86f-48e7-b6c4-379d940a5e81",
   "metadata": {},
   "outputs": [
    {
     "data": {
      "text/plain": [
       "0.00044"
      ]
     },
     "execution_count": 98,
     "metadata": {},
     "output_type": "execute_result"
    }
   ],
   "source": [
    "4.4e-4"
   ]
  },
  {
   "cell_type": "code",
   "execution_count": 102,
   "id": "327d6a92-0a4b-4966-86e4-78867dc31b14",
   "metadata": {},
   "outputs": [
    {
     "data": {
      "text/plain": [
       "0.00044"
      ]
     },
     "execution_count": 102,
     "metadata": {},
     "output_type": "execute_result"
    }
   ],
   "source": [
    "4.4 / 10**4"
   ]
  },
  {
   "cell_type": "code",
   "execution_count": 10,
   "id": "a695bcc1-505f-42f5-bd14-f4daf94d431b",
   "metadata": {},
   "outputs": [
    {
     "data": {
      "text/plain": [
       "0.00044000000000000007"
      ]
     },
     "execution_count": 10,
     "metadata": {},
     "output_type": "execute_result"
    }
   ],
   "source": [
    "4.4 * 10 ** -4"
   ]
  },
  {
   "cell_type": "code",
   "execution_count": 104,
   "id": "4dfcff4a-abab-4459-915f-b404564525a5",
   "metadata": {},
   "outputs": [
    {
     "data": {
      "text/plain": [
       "3.3333333333333335"
      ]
     },
     "execution_count": 104,
     "metadata": {},
     "output_type": "execute_result"
    }
   ],
   "source": [
    "10/3"
   ]
  },
  {
   "cell_type": "code",
   "execution_count": 106,
   "id": "73e0e7d6-64d2-4301-83a3-3ecf7fae2a3f",
   "metadata": {},
   "outputs": [
    {
     "data": {
      "text/plain": [
       "1"
      ]
     },
     "execution_count": 106,
     "metadata": {},
     "output_type": "execute_result"
    }
   ],
   "source": [
    "10%3"
   ]
  },
  {
   "cell_type": "code",
   "execution_count": 108,
   "id": "30546b22-a195-4d7a-b1ea-1c4a823c0def",
   "metadata": {},
   "outputs": [
    {
     "data": {
      "text/plain": [
       "-10"
      ]
     },
     "execution_count": 108,
     "metadata": {},
     "output_type": "execute_result"
    }
   ],
   "source": [
    "-10"
   ]
  },
  {
   "cell_type": "code",
   "execution_count": 110,
   "id": "a28add83-b6ae-4d39-acf4-03dffee692af",
   "metadata": {},
   "outputs": [
    {
     "data": {
      "text/plain": [
       "-8"
      ]
     },
     "execution_count": 110,
     "metadata": {},
     "output_type": "execute_result"
    }
   ],
   "source": [
    "-1*8"
   ]
  },
  {
   "cell_type": "code",
   "execution_count": 112,
   "id": "beb76e0e-4c2d-41d1-b143-a9d67123c774",
   "metadata": {},
   "outputs": [
    {
     "data": {
      "text/plain": [
       "0"
      ]
     },
     "execution_count": 112,
     "metadata": {},
     "output_type": "execute_result"
    }
   ],
   "source": [
    "-0"
   ]
  },
  {
   "cell_type": "code",
   "execution_count": 114,
   "id": "5f23e3a3-e7f3-406f-953c-7b5b77312f85",
   "metadata": {},
   "outputs": [
    {
     "data": {
      "text/plain": [
       "0"
      ]
     },
     "execution_count": 114,
     "metadata": {},
     "output_type": "execute_result"
    }
   ],
   "source": [
    "-1*0"
   ]
  },
  {
   "cell_type": "code",
   "execution_count": 116,
   "id": "d9a4a0bc-188f-4f16-94c1-3e913f96c265",
   "metadata": {},
   "outputs": [
    {
     "data": {
      "text/plain": [
       "11"
      ]
     },
     "execution_count": 116,
     "metadata": {},
     "output_type": "execute_result"
    }
   ],
   "source": [
    "3+4*2"
   ]
  },
  {
   "cell_type": "code",
   "execution_count": 118,
   "id": "84670f3d-c0b7-4078-9bce-bcc23c66a35d",
   "metadata": {},
   "outputs": [],
   "source": [
    "x = 10\n",
    "y = 20.5"
   ]
  },
  {
   "cell_type": "code",
   "execution_count": 120,
   "id": "6a19889a-2e66-47ea-b746-8a20fabe1703",
   "metadata": {},
   "outputs": [
    {
     "name": "stdout",
     "output_type": "stream",
     "text": [
      "30.5\n"
     ]
    }
   ],
   "source": [
    "print (x+y)"
   ]
  },
  {
   "cell_type": "code",
   "execution_count": 122,
   "id": "eb886845-1ee1-448e-bc10-9e9a778b0225",
   "metadata": {},
   "outputs": [
    {
     "name": "stdout",
     "output_type": "stream",
     "text": [
      "-10.5\n"
     ]
    }
   ],
   "source": [
    "print (x-y)"
   ]
  },
  {
   "cell_type": "code",
   "execution_count": 124,
   "id": "9eff9744-3fdc-4c50-863e-6ede7c2a9a0c",
   "metadata": {},
   "outputs": [
    {
     "name": "stdout",
     "output_type": "stream",
     "text": [
      "205.0\n"
     ]
    }
   ],
   "source": [
    "print (x*y)"
   ]
  },
  {
   "cell_type": "code",
   "execution_count": 126,
   "id": "7c97410a-418b-422d-a673-0d017ee704fa",
   "metadata": {},
   "outputs": [
    {
     "name": "stdout",
     "output_type": "stream",
     "text": [
      "2.05\n"
     ]
    }
   ],
   "source": [
    "print (y/x)"
   ]
  },
  {
   "cell_type": "code",
   "execution_count": 128,
   "id": "d00d820e-7d36-4f8b-9ae3-b20c848f9b4e",
   "metadata": {},
   "outputs": [
    {
     "name": "stdout",
     "output_type": "stream",
     "text": [
      "15\n"
     ]
    }
   ],
   "source": [
    "print (x+5)"
   ]
  },
  {
   "cell_type": "code",
   "execution_count": 130,
   "id": "f94eec7f-85e5-4506-89f9-52f8eecbcfb1",
   "metadata": {},
   "outputs": [
    {
     "name": "stdout",
     "output_type": "stream",
     "text": [
      "10.5\n"
     ]
    }
   ],
   "source": [
    "print (y-10)"
   ]
  },
  {
   "cell_type": "code",
   "execution_count": 184,
   "id": "1a6d24bc-8e60-4b79-83b1-886fb3cddef9",
   "metadata": {},
   "outputs": [],
   "source": [
    "x = 10\n",
    "y = 20.5"
   ]
  },
  {
   "cell_type": "code",
   "execution_count": 186,
   "id": "d9115a03-b360-4eb8-ae0d-1098444c5d3e",
   "metadata": {},
   "outputs": [],
   "source": [
    "x = x + 5\n",
    "y = y -10"
   ]
  },
  {
   "cell_type": "code",
   "execution_count": 188,
   "id": "81193e6f-f0fa-4be9-bb0e-6a3c0673b5f9",
   "metadata": {},
   "outputs": [
    {
     "name": "stdout",
     "output_type": "stream",
     "text": [
      "15 10.5\n"
     ]
    }
   ],
   "source": [
    "print(x,y)"
   ]
  },
  {
   "cell_type": "code",
   "execution_count": 272,
   "id": "a7c10419-bf93-462b-9bf1-3431a64842ce",
   "metadata": {},
   "outputs": [
    {
     "name": "stdout",
     "output_type": "stream",
     "text": [
      "10\n"
     ]
    }
   ],
   "source": [
    "print(round(y))"
   ]
  },
  {
   "cell_type": "code",
   "execution_count": 274,
   "id": "290b3168-43db-40f6-8da5-4bc07721f7f2",
   "metadata": {},
   "outputs": [
    {
     "name": "stdout",
     "output_type": "stream",
     "text": [
      "63.75\n"
     ]
    }
   ],
   "source": [
    "print(x * y/ 2 - x)"
   ]
  },
  {
   "cell_type": "code",
   "execution_count": 11,
   "id": "0f14a620-3647-49b6-8059-59c871acddf7",
   "metadata": {},
   "outputs": [],
   "source": [
    "import math"
   ]
  },
  {
   "cell_type": "code",
   "execution_count": 196,
   "id": "84c6ef4f-2443-4e7e-9f04-3a98a7cd38ff",
   "metadata": {},
   "outputs": [
    {
     "data": {
      "text/plain": [
       "['__doc__',\n",
       " '__loader__',\n",
       " '__name__',\n",
       " '__package__',\n",
       " '__spec__',\n",
       " 'acos',\n",
       " 'acosh',\n",
       " 'asin',\n",
       " 'asinh',\n",
       " 'atan',\n",
       " 'atan2',\n",
       " 'atanh',\n",
       " 'cbrt',\n",
       " 'ceil',\n",
       " 'comb',\n",
       " 'copysign',\n",
       " 'cos',\n",
       " 'cosh',\n",
       " 'degrees',\n",
       " 'dist',\n",
       " 'e',\n",
       " 'erf',\n",
       " 'erfc',\n",
       " 'exp',\n",
       " 'exp2',\n",
       " 'expm1',\n",
       " 'fabs',\n",
       " 'factorial',\n",
       " 'floor',\n",
       " 'fmod',\n",
       " 'frexp',\n",
       " 'fsum',\n",
       " 'gamma',\n",
       " 'gcd',\n",
       " 'hypot',\n",
       " 'inf',\n",
       " 'isclose',\n",
       " 'isfinite',\n",
       " 'isinf',\n",
       " 'isnan',\n",
       " 'isqrt',\n",
       " 'lcm',\n",
       " 'ldexp',\n",
       " 'lgamma',\n",
       " 'log',\n",
       " 'log10',\n",
       " 'log1p',\n",
       " 'log2',\n",
       " 'modf',\n",
       " 'nan',\n",
       " 'nextafter',\n",
       " 'perm',\n",
       " 'pi',\n",
       " 'pow',\n",
       " 'prod',\n",
       " 'radians',\n",
       " 'remainder',\n",
       " 'sin',\n",
       " 'sinh',\n",
       " 'sqrt',\n",
       " 'sumprod',\n",
       " 'tan',\n",
       " 'tanh',\n",
       " 'tau',\n",
       " 'trunc',\n",
       " 'ulp']"
      ]
     },
     "execution_count": 196,
     "metadata": {},
     "output_type": "execute_result"
    }
   ],
   "source": [
    "dir (math)"
   ]
  },
  {
   "cell_type": "code",
   "execution_count": 198,
   "id": "b065dac7-aa35-4204-88e7-1f7cd1135e5e",
   "metadata": {},
   "outputs": [],
   "source": [
    "import random"
   ]
  },
  {
   "cell_type": "code",
   "execution_count": 206,
   "id": "ed381421-3a08-4e25-b81b-3045c9dc6e92",
   "metadata": {},
   "outputs": [
    {
     "data": {
      "text/plain": [
       "0.33023216126898514"
      ]
     },
     "execution_count": 206,
     "metadata": {},
     "output_type": "execute_result"
    }
   ],
   "source": [
    "random.random()"
   ]
  },
  {
   "cell_type": "code",
   "execution_count": 252,
   "id": "69f7fde8-81f2-4ab4-a435-1feb77a1d11d",
   "metadata": {},
   "outputs": [
    {
     "data": {
      "text/plain": [
       "22"
      ]
     },
     "execution_count": 252,
     "metadata": {},
     "output_type": "execute_result"
    }
   ],
   "source": [
    "int(random.uniform(20, 30))"
   ]
  },
  {
   "cell_type": "code",
   "execution_count": 13,
   "id": "6019f442-e709-4a83-91d7-d12f1d7ca29d",
   "metadata": {},
   "outputs": [
    {
     "ename": "NameError",
     "evalue": "name 'random' is not defined",
     "output_type": "error",
     "traceback": [
      "\u001b[1;31m---------------------------------------------------------------------------\u001b[0m",
      "\u001b[1;31mNameError\u001b[0m                                 Traceback (most recent call last)",
      "Cell \u001b[1;32mIn[13], line 1\u001b[0m\n\u001b[1;32m----> 1\u001b[0m random\u001b[38;5;241m.\u001b[39mrandint(\u001b[38;5;241m20\u001b[39m, \u001b[38;5;241m30\u001b[39m)\n",
      "\u001b[1;31mNameError\u001b[0m: name 'random' is not defined"
     ]
    }
   ],
   "source": [
    "random.randint(20, 30)"
   ]
  },
  {
   "cell_type": "code",
   "execution_count": 277,
   "id": "87bb728d-aa19-4c3e-af04-8d8a55f6342d",
   "metadata": {},
   "outputs": [
    {
     "data": {
      "text/plain": [
       "'This is text'"
      ]
     },
     "execution_count": 277,
     "metadata": {},
     "output_type": "execute_result"
    }
   ],
   "source": [
    "my_string = \"This is text\"\n",
    "my_string"
   ]
  },
  {
   "cell_type": "code",
   "execution_count": 279,
   "id": "453ce766-0ed5-45b9-8dc8-11c4beed0ce1",
   "metadata": {},
   "outputs": [
    {
     "data": {
      "text/plain": [
       "'This is text'"
      ]
     },
     "execution_count": 279,
     "metadata": {},
     "output_type": "execute_result"
    }
   ],
   "source": [
    "my_string = 'This is text'\n",
    "my_string"
   ]
  },
  {
   "cell_type": "code",
   "execution_count": 14,
   "id": "059e00c5-5127-4540-8cde-0d97e8e2a308",
   "metadata": {},
   "outputs": [
    {
     "data": {
      "text/plain": [
       "'This is text in line 1\\n and this is text in line2\\n '"
      ]
     },
     "execution_count": 14,
     "metadata": {},
     "output_type": "execute_result"
    }
   ],
   "source": [
    "my_string = \"\"\"This is text in line 1\n",
    " and this is text in line2\n",
    " \"\"\"\n",
    "my_string"
   ]
  },
  {
   "cell_type": "code",
   "execution_count": 16,
   "id": "81b38568-ecaf-43eb-9fdb-6a894d204719",
   "metadata": {},
   "outputs": [
    {
     "data": {
      "text/plain": [
       "'This is text with a \"double quote'"
      ]
     },
     "execution_count": 16,
     "metadata": {},
     "output_type": "execute_result"
    }
   ],
   "source": [
    "my_string = \"This is text with a \\\"double quote\"\n",
    "my_string"
   ]
  },
  {
   "cell_type": "code",
   "execution_count": 285,
   "id": "2cd067d3-9475-419c-8843-0a8fbcc8be82",
   "metadata": {},
   "outputs": [
    {
     "data": {
      "text/plain": [
       "'This is \"text\" with a double quote'"
      ]
     },
     "execution_count": 285,
     "metadata": {},
     "output_type": "execute_result"
    }
   ],
   "source": [
    "my_string = \"This is \\\"text\\\" with a double quote\"\n",
    "my_string"
   ]
  },
  {
   "cell_type": "code",
   "execution_count": 287,
   "id": "3ab7635b-4c82-4daf-bfd5-b1521330c179",
   "metadata": {},
   "outputs": [
    {
     "name": "stdout",
     "output_type": "stream",
     "text": [
      "This is \"text\" with a double quote\n"
     ]
    }
   ],
   "source": [
    "my_string = \"This is \\\"text\\\" with a double quote\"\n",
    "print(my_string)"
   ]
  },
  {
   "cell_type": "code",
   "execution_count": 295,
   "id": "9161ae0f-b79c-4aaa-9efb-6d7458fdceab",
   "metadata": {},
   "outputs": [
    {
     "name": "stdout",
     "output_type": "stream",
     "text": [
      "This is \\text\\ with a back slash\n"
     ]
    }
   ],
   "source": [
    "my_string = \"This is \\\\text\\\\ with a back slash\"\n",
    "print(my_string)"
   ]
  },
  {
   "cell_type": "code",
   "execution_count": 305,
   "id": "ad9d07fc-5984-4226-bd68-473c4e3b3722",
   "metadata": {},
   "outputs": [
    {
     "name": "stdout",
     "output_type": "stream",
     "text": [
      "This is \ttext\t with a back slash\n"
     ]
    }
   ],
   "source": [
    "my_string = \"This is \\ttext\\t with a back slash\"\n",
    "print(my_string)"
   ]
  },
  {
   "cell_type": "code",
   "execution_count": 301,
   "id": "0cdff558-4801-43ac-bb7c-7e50b3aed5ef",
   "metadata": {},
   "outputs": [
    {
     "name": "stdout",
     "output_type": "stream",
     "text": [
      "This is text with a back slash\n"
     ]
    }
   ],
   "source": [
    "my_string = \"This is text with a back slash\"\n",
    "print(my_string)"
   ]
  },
  {
   "cell_type": "code",
   "execution_count": 28,
   "id": "021ebc20-4884-4bee-ba32-f657c3456e05",
   "metadata": {
    "scrolled": true
   },
   "outputs": [
    {
     "name": "stdout",
     "output_type": "stream",
     "text": [
      "HelloWorld\n",
      "Hello World\n"
     ]
    },
    {
     "data": {
      "text/plain": [
       "11"
      ]
     },
     "execution_count": 28,
     "metadata": {},
     "output_type": "execute_result"
    }
   ],
   "source": [
    "str1 = \"Hello\"\n",
    "str2 = \"World\"\n",
    "str3 = \" \"\n",
    "print (str1 + str2)\n",
    "print(str1 + str3 + str2)\n",
    "len(str1 + str3 + str2)"
   ]
  },
  {
   "cell_type": "code",
   "execution_count": 26,
   "id": "43512211-47a0-46ff-8a7b-d8efc5b1cef4",
   "metadata": {},
   "outputs": [
    {
     "name": "stdout",
     "output_type": "stream",
     "text": [
      "Hello sk\n"
     ]
    }
   ],
   "source": [
    "user_name = \"sk\"\n",
    "\n",
    "print(f\"Hello {user_name}\")"
   ]
  },
  {
   "cell_type": "code",
   "execution_count": 21,
   "id": "e43fcc4e-60d9-4a24-82dc-3505c55bccad",
   "metadata": {},
   "outputs": [
    {
     "name": "stdin",
     "output_type": "stream",
     "text": [
      "what is your name? hallen\n"
     ]
    },
    {
     "name": "stdout",
     "output_type": "stream",
     "text": [
      "Hello hallen\n"
     ]
    }
   ],
   "source": [
    "user_name = input(\"what is your name?\")\n",
    "\n",
    "print(f\"Hello {user_name}\")"
   ]
  },
  {
   "cell_type": "code",
   "execution_count": 9,
   "id": "cc5343c2-df7f-4a87-98d4-ff4be3f4837f",
   "metadata": {},
   "outputs": [],
   "source": [
    "name1 = \"HESONGKE\"\n",
    "name2 = \"hesongke\""
   ]
  },
  {
   "cell_type": "code",
   "execution_count": 11,
   "id": "2965b266-8e91-4249-8cd3-459f0c978d26",
   "metadata": {},
   "outputs": [
    {
     "data": {
      "text/plain": [
       "'hesongke'"
      ]
     },
     "execution_count": 11,
     "metadata": {},
     "output_type": "execute_result"
    }
   ],
   "source": [
    "name1.lower()"
   ]
  },
  {
   "cell_type": "code",
   "execution_count": 13,
   "id": "2b7b5bfd-71be-41a9-914b-f08826e7f698",
   "metadata": {},
   "outputs": [
    {
     "data": {
      "text/plain": [
       "'HESONGKE'"
      ]
     },
     "execution_count": 13,
     "metadata": {},
     "output_type": "execute_result"
    }
   ],
   "source": [
    "name2.upper()"
   ]
  },
  {
   "cell_type": "code",
   "execution_count": 15,
   "id": "d08175a2-d591-41df-b415-7dda864c537d",
   "metadata": {},
   "outputs": [
    {
     "data": {
      "text/plain": [
       "'Hesongke'"
      ]
     },
     "execution_count": 15,
     "metadata": {},
     "output_type": "execute_result"
    }
   ],
   "source": [
    "name2.title()"
   ]
  },
  {
   "cell_type": "code",
   "execution_count": 17,
   "id": "b313a541-8e1d-4f5f-8222-a12076beaeab",
   "metadata": {},
   "outputs": [
    {
     "name": "stdout",
     "output_type": "stream",
     "text": [
      "hello world\n"
     ]
    }
   ],
   "source": [
    "welcome = \"hello world\"\n",
    "print(welcome)"
   ]
  },
  {
   "cell_type": "code",
   "execution_count": 23,
   "id": "b1e3dfde-b556-4e95-9afa-3370df0e47cc",
   "metadata": {},
   "outputs": [
    {
     "name": "stdout",
     "output_type": "stream",
     "text": [
      "hello everyone\n"
     ]
    }
   ],
   "source": [
    "print(welcome.replace(\"world\",\"everyone\"))"
   ]
  },
  {
   "cell_type": "code",
   "execution_count": 39,
   "id": "59894002-d5a2-4d2f-a061-434bb5fed0dc",
   "metadata": {},
   "outputs": [
    {
     "name": "stdout",
     "output_type": "stream",
     "text": [
      "2\n"
     ]
    }
   ],
   "source": [
    "print(welcome.count(\"o\"))"
   ]
  },
  {
   "cell_type": "code",
   "execution_count": 35,
   "id": "89d16b9c-455a-4c8d-9418-76b723d65354",
   "metadata": {},
   "outputs": [
    {
     "name": "stdout",
     "output_type": "stream",
     "text": [
      "True\n"
     ]
    }
   ],
   "source": [
    "welcome = \"Helloworld\"\n",
    "print(welcome.isalpha())"
   ]
  },
  {
   "cell_type": "code",
   "execution_count": 45,
   "id": "1aa34578-8d49-477e-89dc-de2f48488252",
   "metadata": {},
   "outputs": [],
   "source": [
    "isGood = True\n",
    "isNone = None"
   ]
  },
  {
   "cell_type": "code",
   "execution_count": 43,
   "id": "3db4b4cd-e88f-47a3-af52-21fac8dd0a81",
   "metadata": {},
   "outputs": [
    {
     "data": {
      "text/plain": [
       "2"
      ]
     },
     "execution_count": 43,
     "metadata": {},
     "output_type": "execute_result"
    }
   ],
   "source": [
    "isGood + isGood"
   ]
  },
  {
   "cell_type": "code",
   "execution_count": 47,
   "id": "254359ab-d1c0-488e-ab32-99afb408c603",
   "metadata": {},
   "outputs": [
    {
     "ename": "TypeError",
     "evalue": "unsupported operand type(s) for +: 'bool' and 'NoneType'",
     "output_type": "error",
     "traceback": [
      "\u001b[1;31m---------------------------------------------------------------------------\u001b[0m",
      "\u001b[1;31mTypeError\u001b[0m                                 Traceback (most recent call last)",
      "Cell \u001b[1;32mIn[47], line 1\u001b[0m\n\u001b[1;32m----> 1\u001b[0m isGood \u001b[38;5;241m+\u001b[39m isNone\n",
      "\u001b[1;31mTypeError\u001b[0m: unsupported operand type(s) for +: 'bool' and 'NoneType'"
     ]
    }
   ],
   "source": [
    "isGood + isNone"
   ]
  },
  {
   "cell_type": "code",
   "execution_count": 49,
   "id": "227a06fb-68c9-4203-9c98-583119505d9e",
   "metadata": {},
   "outputs": [],
   "source": [
    "myRealnumber = 30\n",
    "myTextNumber = \"30\""
   ]
  },
  {
   "cell_type": "code",
   "execution_count": 53,
   "id": "ce7c0037-f60a-48d3-af04-b3ece0e7d710",
   "metadata": {},
   "outputs": [
    {
     "ename": "TypeError",
     "evalue": "unsupported operand type(s) for +: 'int' and 'str'",
     "output_type": "error",
     "traceback": [
      "\u001b[1;31m---------------------------------------------------------------------------\u001b[0m",
      "\u001b[1;31mTypeError\u001b[0m                                 Traceback (most recent call last)",
      "Cell \u001b[1;32mIn[53], line 1\u001b[0m\n\u001b[1;32m----> 1\u001b[0m myRealnumber \u001b[38;5;241m+\u001b[39m myTextNumber\n",
      "\u001b[1;31mTypeError\u001b[0m: unsupported operand type(s) for +: 'int' and 'str'"
     ]
    }
   ],
   "source": [
    "myRealnumber + myTextNumber"
   ]
  },
  {
   "cell_type": "code",
   "execution_count": 55,
   "id": "1235f58a-3985-4c25-91e4-ac0bfbb1b5ad",
   "metadata": {},
   "outputs": [
    {
     "data": {
      "text/plain": [
       "60"
      ]
     },
     "execution_count": 55,
     "metadata": {},
     "output_type": "execute_result"
    }
   ],
   "source": [
    "myRealnumber + int(myTextNumber)"
   ]
  },
  {
   "cell_type": "code",
   "execution_count": 57,
   "id": "67ae7d2e-8eff-415c-8249-ff045d9bbd79",
   "metadata": {},
   "outputs": [],
   "source": [
    "myFloatsNumber = \"70.98\""
   ]
  },
  {
   "cell_type": "code",
   "execution_count": 59,
   "id": "952e1e2a-f575-40bb-b2ea-495f2ed91cee",
   "metadata": {},
   "outputs": [
    {
     "ename": "TypeError",
     "evalue": "can only concatenate str (not \"float\") to str",
     "output_type": "error",
     "traceback": [
      "\u001b[1;31m---------------------------------------------------------------------------\u001b[0m",
      "\u001b[1;31mTypeError\u001b[0m                                 Traceback (most recent call last)",
      "Cell \u001b[1;32mIn[59], line 1\u001b[0m\n\u001b[1;32m----> 1\u001b[0m myFloatsNumber \u001b[38;5;241m+\u001b[39m \u001b[38;5;241m5.00\u001b[39m\n",
      "\u001b[1;31mTypeError\u001b[0m: can only concatenate str (not \"float\") to str"
     ]
    }
   ],
   "source": [
    "myFloatsNumber + 5.00"
   ]
  },
  {
   "cell_type": "code",
   "execution_count": 61,
   "id": "b2ad2303-861d-4b34-bfdc-27194e4c5753",
   "metadata": {},
   "outputs": [
    {
     "data": {
      "text/plain": [
       "75.98"
      ]
     },
     "execution_count": 61,
     "metadata": {},
     "output_type": "execute_result"
    }
   ],
   "source": [
    "float(myFloatsNumber) + 5.00"
   ]
  },
  {
   "cell_type": "code",
   "execution_count": null,
   "id": "8cbb3fc6-bfc1-4a95-af50-59e3e05a8d06",
   "metadata": {},
   "outputs": [],
   "source": []
  }
 ],
 "metadata": {
  "kernelspec": {
   "display_name": "Python 3 (ipykernel)",
   "language": "python",
   "name": "python3"
  },
  "language_info": {
   "codemirror_mode": {
    "name": "ipython",
    "version": 3
   },
   "file_extension": ".py",
   "mimetype": "text/x-python",
   "name": "python",
   "nbconvert_exporter": "python",
   "pygments_lexer": "ipython3",
   "version": "3.12.4"
  }
 },
 "nbformat": 4,
 "nbformat_minor": 5
}
