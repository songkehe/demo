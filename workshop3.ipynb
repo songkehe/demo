{
 "cells": [
  {
   "cell_type": "code",
   "execution_count": 2,
   "id": "9303b97c-443f-49a5-9b13-e7cc98b6a621",
   "metadata": {},
   "outputs": [
    {
     "data": {
      "text/plain": [
       "\u001b[1;31mSignature:\u001b[0m  \u001b[0mprint\u001b[0m\u001b[1;33m(\u001b[0m\u001b[1;33m*\u001b[0m\u001b[0margs\u001b[0m\u001b[1;33m,\u001b[0m \u001b[0msep\u001b[0m\u001b[1;33m=\u001b[0m\u001b[1;34m' '\u001b[0m\u001b[1;33m,\u001b[0m \u001b[0mend\u001b[0m\u001b[1;33m=\u001b[0m\u001b[1;34m'\\n'\u001b[0m\u001b[1;33m,\u001b[0m \u001b[0mfile\u001b[0m\u001b[1;33m=\u001b[0m\u001b[1;32mNone\u001b[0m\u001b[1;33m,\u001b[0m \u001b[0mflush\u001b[0m\u001b[1;33m=\u001b[0m\u001b[1;32mFalse\u001b[0m\u001b[1;33m)\u001b[0m\u001b[1;33m\u001b[0m\u001b[1;33m\u001b[0m\u001b[0m\n",
       "\u001b[1;31mDocstring:\u001b[0m\n",
       "Prints the values to a stream, or to sys.stdout by default.\n",
       "\n",
       "sep\n",
       "  string inserted between values, default a space.\n",
       "end\n",
       "  string appended after the last value, default a newline.\n",
       "file\n",
       "  a file-like object (stream); defaults to the current sys.stdout.\n",
       "flush\n",
       "  whether to forcibly flush the stream.\n",
       "\u001b[1;31mType:\u001b[0m      builtin_function_or_method"
      ]
     },
     "metadata": {},
     "output_type": "display_data"
    }
   ],
   "source": [
    "? print"
   ]
  },
  {
   "cell_type": "code",
   "execution_count": 4,
   "id": "a4cf8e3e-4e14-4919-ab5a-ad227f12a9ce",
   "metadata": {},
   "outputs": [
    {
     "name": "stdout",
     "output_type": "stream",
     "text": [
      "9\n"
     ]
    }
   ],
   "source": [
    "print (4 +5)"
   ]
  },
  {
   "cell_type": "code",
   "execution_count": 6,
   "id": "db508292-663e-464e-a734-43b1bcefb41d",
   "metadata": {},
   "outputs": [
    {
     "name": "stdout",
     "output_type": "stream",
     "text": [
      "5.0\n"
     ]
    }
   ],
   "source": [
    "print (10 / 2)"
   ]
  },
  {
   "cell_type": "code",
   "execution_count": 8,
   "id": "79e84022-ccbd-4bbc-ab10-dc420d3897b7",
   "metadata": {},
   "outputs": [
    {
     "name": "stdout",
     "output_type": "stream",
     "text": [
      "3.0\n"
     ]
    }
   ],
   "source": [
    "print ((4+5)/3)"
   ]
  },
  {
   "cell_type": "code",
   "execution_count": 10,
   "id": "87eda2b2-9e92-4d34-8a78-fe1e8b3b12cd",
   "metadata": {},
   "outputs": [
    {
     "name": "stdout",
     "output_type": "stream",
     "text": [
      "Hello!\n"
     ]
    }
   ],
   "source": [
    "print (\"Hello!\")"
   ]
  },
  {
   "cell_type": "code",
   "execution_count": 15,
   "id": "b3f410a0-31c9-4541-8bfd-ce8ac56221c1",
   "metadata": {},
   "outputs": [
    {
     "name": "stdout",
     "output_type": "stream",
     "text": [
      "Hello! how are you?\n",
      "Hello! how are you? my age is:  12\n",
      "Hello! how are you? I love programming\n",
      "Hello!\\how are you?\\I love programming\n"
     ]
    }
   ],
   "source": [
    "print(\"Hello!\", \"how are you?\")\n",
    "print(\"Hello!\", \"how are you?\", \"my age is: \", 12)\n",
    "print(\"Hello!\", \"how are you?\", \"I love programming\")\n",
    "print(\"Hello!\", \"how are you?\", \"I love programming\", sep=\"\\\\\")"
   ]
  },
  {
   "cell_type": "code",
   "execution_count": 24,
   "id": "4a5db403-6c45-460f-9d7b-50e70512583c",
   "metadata": {},
   "outputs": [
    {
     "name": "stdin",
     "output_type": "stream",
     "text": [
      "what is your first_name? he\n",
      "what is your last name? songke\n",
      "what is your age? 24\n",
      "what is your height? 180cm\n"
     ]
    },
    {
     "name": "stdout",
     "output_type": "stream",
     "text": [
      "your name is he songke,\n",
      "and you are 24 years old ,your height is 180cm \n"
     ]
    }
   ],
   "source": [
    "first_name = input(\"what is your first_name?\")\n",
    "last_name = input(\"what is your last name?\")\n",
    "age = input(\"what is your age?\")\n",
    "height = input(\"what is your height?\")\n",
    "print(f\"\"\"your name is {first_name} {last_name},\n",
    "and you are {age} years old ,your height is {height} \"\"\")"
   ]
  },
  {
   "cell_type": "code",
   "execution_count": 2,
   "id": "454574f1-5684-4c3e-9b34-f522194cba1b",
   "metadata": {},
   "outputs": [
    {
     "data": {
      "text/plain": [
       "25"
      ]
     },
     "execution_count": 2,
     "metadata": {},
     "output_type": "execute_result"
    }
   ],
   "source": [
    "len(\"I love Python Programming\")"
   ]
  },
  {
   "cell_type": "code",
   "execution_count": 25,
   "id": "0cb1ed64-146b-4c98-a51b-d480794ab3af",
   "metadata": {},
   "outputs": [],
   "source": [
    "import random"
   ]
  },
  {
   "cell_type": "code",
   "execution_count": 32,
   "id": "139b7341-028e-401b-a492-7eaecea2e538",
   "metadata": {},
   "outputs": [
    {
     "data": {
      "text/plain": [
       "4"
      ]
     },
     "execution_count": 32,
     "metadata": {},
     "output_type": "execute_result"
    }
   ],
   "source": [
    "random.randint(1,10)"
   ]
  },
  {
   "cell_type": "code",
   "execution_count": 34,
   "id": "3a6347e3-0535-463e-ba13-4682c5d75671",
   "metadata": {},
   "outputs": [],
   "source": [
    "txt = \"I love Python Programming\""
   ]
  },
  {
   "cell_type": "code",
   "execution_count": 38,
   "id": "8cd61848-861f-440e-abb9-ee62c9414bdf",
   "metadata": {},
   "outputs": [
    {
     "data": {
      "text/plain": [
       "25"
      ]
     },
     "execution_count": 38,
     "metadata": {},
     "output_type": "execute_result"
    }
   ],
   "source": [
    "len(txt)"
   ]
  },
  {
   "cell_type": "code",
   "execution_count": 41,
   "id": "e01061fa-e777-43bc-9fff-3ae127787d2b",
   "metadata": {},
   "outputs": [],
   "source": [
    "y = -35.59"
   ]
  },
  {
   "cell_type": "code",
   "execution_count": 43,
   "id": "b47654ad-320d-40ca-84fc-401000f4fc0a",
   "metadata": {},
   "outputs": [
    {
     "name": "stdout",
     "output_type": "stream",
     "text": [
      "y\n"
     ]
    }
   ],
   "source": [
    "print(\"y\")"
   ]
  },
  {
   "cell_type": "code",
   "execution_count": 45,
   "id": "79f2e1e8-0bd5-4935-ab1e-8abe37369725",
   "metadata": {},
   "outputs": [
    {
     "name": "stdout",
     "output_type": "stream",
     "text": [
      "-35.59\n"
     ]
    }
   ],
   "source": [
    "print(y)"
   ]
  },
  {
   "cell_type": "code",
   "execution_count": 47,
   "id": "8a4aef23-81f9-4ccb-af26-4698c653b71a",
   "metadata": {},
   "outputs": [
    {
     "name": "stdout",
     "output_type": "stream",
     "text": [
      "<class 'float'>\n"
     ]
    }
   ],
   "source": [
    "y = -35.59\n",
    "output3 = type(y)\n",
    "print(output3)"
   ]
  },
  {
   "cell_type": "code",
   "execution_count": 53,
   "id": "5a29601c-1683-4e29-84c7-7ea55a70b1de",
   "metadata": {},
   "outputs": [
    {
     "data": {
      "text/plain": [
       "1099511627776"
      ]
     },
     "execution_count": 53,
     "metadata": {},
     "output_type": "execute_result"
    }
   ],
   "source": [
    "4**20"
   ]
  },
  {
   "cell_type": "code",
   "execution_count": 55,
   "id": "546fa927-7287-473b-b277-01c8fefffcdc",
   "metadata": {},
   "outputs": [
    {
     "name": "stdout",
     "output_type": "stream",
     "text": [
      "1099511627776\n"
     ]
    }
   ],
   "source": [
    "output4 = 4**20\n",
    "print(output4)"
   ]
  },
  {
   "cell_type": "code",
   "execution_count": 69,
   "id": "f47a575b-e027-4b60-b749-7570a10f1e06",
   "metadata": {},
   "outputs": [
    {
     "name": "stdout",
     "output_type": "stream",
     "text": [
      "Problem Solving\n"
     ]
    }
   ],
   "source": [
    "str1 = \"Problem\"\n",
    "str2 = \"Solving\"\n",
    "str3 = \" \"\n",
    "output5 = str1 + str3 + str2\n",
    "print(output5)\n",
    "\n"
   ]
  },
  {
   "cell_type": "code",
   "execution_count": 71,
   "id": "22f59b80-dcd1-4dd9-94fe-935412753dad",
   "metadata": {},
   "outputs": [
    {
     "data": {
      "text/plain": [
       "int"
      ]
     },
     "execution_count": 71,
     "metadata": {},
     "output_type": "execute_result"
    }
   ],
   "source": [
    "x,y = 7,3\n",
    "output6_i = x/y\n",
    "output6_ii = x//y\n",
    "type(output6_i)\n",
    "type(output6_ii)"
   ]
  },
  {
   "cell_type": "code",
   "execution_count": 81,
   "id": "974cb163-0122-4b29-bb55-056bd87ea409",
   "metadata": {},
   "outputs": [
    {
     "name": "stdout",
     "output_type": "stream",
     "text": [
      "175\n"
     ]
    }
   ],
   "source": [
    "user_height = \"175\"\n",
    "output8 = int(user_height)\n",
    "print(output8)"
   ]
  },
  {
   "cell_type": "code",
   "execution_count": 87,
   "id": "f181158b-5c62-4f18-ae58-ee4e51a8029c",
   "metadata": {},
   "outputs": [
    {
     "name": "stdout",
     "output_type": "stream",
     "text": [
      "John said \"Hello\"\n"
     ]
    }
   ],
   "source": [
    "sentence = \"John said \\\"Hello\\\"\"\n",
    "print(sentence)"
   ]
  },
  {
   "cell_type": "code",
   "execution_count": 107,
   "id": "0f8cf72b-85ee-4494-b0ba-147e0573463a",
   "metadata": {},
   "outputs": [
    {
     "name": "stdout",
     "output_type": "stream",
     "text": [
      "78\n"
     ]
    }
   ],
   "source": [
    "fahrenheit_temperature= 78\n",
    "print(fahrenheit_temperature)"
   ]
  },
  {
   "cell_type": "code",
   "execution_count": 111,
   "id": "ff80bed5-a087-4b0d-a288-b714e5d9d8f3",
   "metadata": {},
   "outputs": [
    {
     "name": "stdout",
     "output_type": "stream",
     "text": [
      "25.555555555555557\n"
     ]
    }
   ],
   "source": [
    "C = (fahrenheit_temperature-32) * 5/9\n",
    "output10 = C\n",
    "print(output10)"
   ]
  },
  {
   "cell_type": "code",
   "execution_count": 120,
   "id": "4711b7ef-d808-46ea-937c-343534ff3d05",
   "metadata": {},
   "outputs": [
    {
     "data": {
      "text/plain": [
       "'The University Of Adelaide'"
      ]
     },
     "execution_count": 120,
     "metadata": {},
     "output_type": "execute_result"
    }
   ],
   "source": [
    "input11 = \"thE universiTy OF adelaiDE\"\n",
    "\n",
    "input11.title()"
   ]
  },
  {
   "cell_type": "code",
   "execution_count": 124,
   "id": "61548e8f-fb0d-4a26-b749-a40dd3896b38",
   "metadata": {},
   "outputs": [],
   "source": [
    "from math import e"
   ]
  },
  {
   "cell_type": "code",
   "execution_count": 139,
   "id": "400e56a1-df0c-431f-a1d4-4dcaea07c583",
   "metadata": {},
   "outputs": [
    {
     "name": "stdout",
     "output_type": "stream",
     "text": [
      "3 2.72 2.7\n"
     ]
    }
   ],
   "source": [
    "output13_i = round(e)\n",
    "output13_ii = round(e,2)\n",
    "output13_iii = round(e,1)\n",
    "print((output13_i),(output13_ii),(output13_iii))"
   ]
  },
  {
   "cell_type": "code",
   "execution_count": 129,
   "id": "7214732f-a84f-4b9f-8346-02f5d01f4fb5",
   "metadata": {},
   "outputs": [
    {
     "data": {
      "text/plain": [
       "2.72"
      ]
     },
     "execution_count": 129,
     "metadata": {},
     "output_type": "execute_result"
    }
   ],
   "source": [
    "round(e,2)"
   ]
  },
  {
   "cell_type": "code",
   "execution_count": 131,
   "id": "c8af2a7f-c8e0-4f72-a7d6-d809dd37bf84",
   "metadata": {},
   "outputs": [
    {
     "data": {
      "text/plain": [
       "2.7"
      ]
     },
     "execution_count": 131,
     "metadata": {},
     "output_type": "execute_result"
    }
   ],
   "source": [
    "round(e,1)"
   ]
  },
  {
   "cell_type": "code",
   "execution_count": 149,
   "id": "dc1d138d-7f6b-431a-82b7-e2bcb4c18a49",
   "metadata": {},
   "outputs": [
    {
     "name": "stdout",
     "output_type": "stream",
     "text": [
      "incomprehensibilities\n"
     ]
    }
   ],
   "source": [
    "input14 = \"  .i., .nc.,., .omp  r.,ehe. ns,, .,. ibi . ,l,iti,., es \"\n",
    "output14 = input14.replace(\" \",\"\").replace(\",\",\"\").replace(\".\",\"\")\n",
    "print(output14)"
   ]
  },
  {
   "cell_type": "code",
   "execution_count": 151,
   "id": "f16e49a9-f7d2-4f40-8f15-d882e6df646a",
   "metadata": {},
   "outputs": [
    {
     "name": "stdout",
     "output_type": "stream",
     "text": [
      "home/user/documents\n"
     ]
    }
   ],
   "source": [
    "print('home', 'user', 'documents', sep='/')"
   ]
  },
  {
   "cell_type": "code",
   "execution_count": 153,
   "id": "edc8800e-29ad-4192-8f14-75f826614e29",
   "metadata": {},
   "outputs": [
    {
     "name": "stdout",
     "output_type": "stream",
     "text": [
      "H e l l o !\n"
     ]
    }
   ],
   "source": [
    "print(\"H\", \"e\", \"l\", \"l\", \"o\", \"!\")"
   ]
  },
  {
   "cell_type": "code",
   "execution_count": 155,
   "id": "ec28492c-8bd8-492e-bb04-2219b9858199",
   "metadata": {},
   "outputs": [
    {
     "name": "stdout",
     "output_type": "stream",
     "text": [
      "My first name is John My age is 12 I love programming in Python\n"
     ]
    }
   ],
   "source": [
    "name = \"John\"\n",
    "age = 12\n",
    "print(\"My first name is\", name, \"My age is\", age, \"I love programming in Python\")"
   ]
  },
  {
   "cell_type": "markdown",
   "id": "e5e32280-ff4d-4c1e-85d9-38feb0de3171",
   "metadata": {},
   "source": [
    "~~This was mistaken text~~"
   ]
  },
  {
   "cell_type": "code",
   "execution_count": 164,
   "id": "8984b1b8-16d7-4502-bf0b-7b4e89791b13",
   "metadata": {},
   "outputs": [
    {
     "name": "stdout",
     "output_type": "stream",
     "text": [
      "My name is John, I am 9. My name is David, I am 12. The price of John's toy is only $49.00. The price of David's toy is only $99.12\n"
     ]
    }
   ],
   "source": [
    "#named placeholders\r\n",
    "txt1 = \"My name is {fname}, I am {age}\".format(fname = \"John\", age = 9)\r\n",
    "#empty placeholders\r\n",
    "txt2 = \"My name is {}, I am {}\".format(\"David\", 12)\r\n",
    "#price inside named placeholder\r\n",
    "txt3 = \"The price of John's toy is only ${price:.2f}\".format(price = 49)\r\n",
    "#price inside empty placeholder\r\n",
    "txt4 = \"The price of David's toy is only ${:.2f}\".format(99.1212)\r\n",
    "\r\n",
    "print(txt1, txt2, txt3, txt4, sep = '. ')"
   ]
  },
  {
   "cell_type": "code",
   "execution_count": 166,
   "id": "717d40fe-2cc5-412e-8715-d359fb55e09e",
   "metadata": {},
   "outputs": [
    {
     "ename": "ValueError",
     "evalue": "Unknown format code 'f' for object of type 'str'",
     "output_type": "error",
     "traceback": [
      "\u001b[1;31m---------------------------------------------------------------------------\u001b[0m",
      "\u001b[1;31mValueError\u001b[0m                                Traceback (most recent call last)",
      "Cell \u001b[1;32mIn[166], line 1\u001b[0m\n\u001b[1;32m----> 1\u001b[0m \u001b[38;5;28mprint\u001b[39m(\u001b[38;5;124m\"\u001b[39m\u001b[38;5;124mHello \u001b[39m\u001b[38;5;132;01m{}\u001b[39;00m\u001b[38;5;124m! Your coffee is ready! Please pay \u001b[39m\u001b[38;5;132;01m{:.2f}\u001b[39;00m\u001b[38;5;124m.\u001b[39m\u001b[38;5;124m\"\u001b[39m\u001b[38;5;241m.\u001b[39mformat(\u001b[38;5;124m\"\u001b[39m\u001b[38;5;124mDenise\u001b[39m\u001b[38;5;124m\"\u001b[39m, \u001b[38;5;124m\"\u001b[39m\u001b[38;5;124m$5.121212\u001b[39m\u001b[38;5;124m\"\u001b[39m))\n",
      "\u001b[1;31mValueError\u001b[0m: Unknown format code 'f' for object of type 'str'"
     ]
    }
   ],
   "source": [
    "print(\"Hello {}! Your coffee is ready! Please pay {:.2f}.\".format(\"Denise\", \"$5.121212\"))"
   ]
  },
  {
   "cell_type": "code",
   "execution_count": 168,
   "id": "0bd50258-a2bc-4f4d-92e4-2831095bc146",
   "metadata": {},
   "outputs": [
    {
     "name": "stdout",
     "output_type": "stream",
     "text": [
      "Hello Denise! Your coffee is ready! Please pay $5.12.\n"
     ]
    }
   ],
   "source": [
    "print(\"Hello {}! Your coffee is ready! Please pay {}.\".format(\"Denise\", \"$5.12\"))"
   ]
  },
  {
   "cell_type": "code",
   "execution_count": 170,
   "id": "0d13c791-e95a-4b6f-9474-3371dc358855",
   "metadata": {},
   "outputs": [
    {
     "name": "stderr",
     "output_type": "stream",
     "text": [
      "'[]' 不是内部或外部命令，也不是可运行的程序\n",
      "或批处理文件。\n"
     ]
    }
   ],
   "source": [
    "![](https://www.python.org/static/community_logos/python-logo-master-v3-TM.png)"
   ]
  },
  {
   "cell_type": "code",
   "execution_count": 172,
   "id": "fcd29321-469a-4794-a50f-b62b78a35a23",
   "metadata": {},
   "outputs": [
    {
     "ename": "SyntaxError",
     "evalue": "invalid syntax (1022018046.py, line 1)",
     "output_type": "error",
     "traceback": [
      "\u001b[1;36m  Cell \u001b[1;32mIn[172], line 1\u001b[1;36m\u001b[0m\n\u001b[1;33m    [![python logo](https://www.python.org/static/community_logos/python-logo-master-v3-TM.png \"Python logo\")](https://www.python.org/)\u001b[0m\n\u001b[1;37m     ^\u001b[0m\n\u001b[1;31mSyntaxError\u001b[0m\u001b[1;31m:\u001b[0m invalid syntax\n"
     ]
    }
   ],
   "source": [
    "[![python logo](https://www.python.org/static/community_logos/python-logo-master-v3-TM.png \"Python logo\")](https://www.python.org/)"
   ]
  },
  {
   "cell_type": "code",
   "execution_count": 174,
   "id": "3e84c9a8-f2f6-4822-9ce1-c717b89e51fc",
   "metadata": {},
   "outputs": [
    {
     "ename": "ValueError",
     "evalue": "Unknown format code 'f' for object of type 'str'",
     "output_type": "error",
     "traceback": [
      "\u001b[1;31m---------------------------------------------------------------------------\u001b[0m",
      "\u001b[1;31mValueError\u001b[0m                                Traceback (most recent call last)",
      "Cell \u001b[1;32mIn[174], line 1\u001b[0m\n\u001b[1;32m----> 1\u001b[0m \u001b[38;5;28mprint\u001b[39m(\u001b[38;5;124m\"\u001b[39m\u001b[38;5;124mHello \u001b[39m\u001b[38;5;132;01m{}\u001b[39;00m\u001b[38;5;124m! Your coffee is ready! Please pay \u001b[39m\u001b[38;5;132;01m{:.2f}\u001b[39;00m\u001b[38;5;124m.\u001b[39m\u001b[38;5;124m\"\u001b[39m\u001b[38;5;241m.\u001b[39mformat(\u001b[38;5;124m\"\u001b[39m\u001b[38;5;124mDenise\u001b[39m\u001b[38;5;124m\"\u001b[39m, \u001b[38;5;124m\"\u001b[39m\u001b[38;5;124m$5.121212\u001b[39m\u001b[38;5;124m\"\u001b[39m))\n",
      "\u001b[1;31mValueError\u001b[0m: Unknown format code 'f' for object of type 'str'"
     ]
    }
   ],
   "source": [
    "print(\"Hello {}! Your coffee is ready! Please pay {:.2f}.\".format(\"Denise\", \"$5.121212\"))"
   ]
  },
  {
   "cell_type": "code",
   "execution_count": null,
   "id": "1054c1b3-390c-48f6-950a-e455258d02db",
   "metadata": {},
   "outputs": [],
   "source": [
    "input16 = \"10,612,419,001\"\n",
    "output16 = input16.replace(', ', '<placeholder>').replace('.', ', ').replace('<placeholder>', '.')"
   ]
  },
  {
   "cell_type": "code",
   "execution_count": 10,
   "id": "6ad4e955-56a9-4237-b333-bd9b017d7da5",
   "metadata": {},
   "outputs": [
    {
     "name": "stdout",
     "output_type": "stream",
     "text": [
      "10, 612, 419, 001\n"
     ]
    }
   ],
   "source": [
    "input_str = \"10, 612, 419.001\"\n",
    "output16 = input_str.replace(', ', '.').replace('.', ', ')\n",
    "print(output16)"
   ]
  },
  {
   "cell_type": "code",
   "execution_count": null,
   "id": "feac2f70-20ed-4454-89e7-9d80f3d68992",
   "metadata": {},
   "outputs": [],
   "source": []
  },
  {
   "cell_type": "code",
   "execution_count": null,
   "id": "bf0695a5-44e1-49fb-8d4a-a86bd0e1f481",
   "metadata": {},
   "outputs": [],
   "source": []
  }
 ],
 "metadata": {
  "kernelspec": {
   "display_name": "Python 3 (ipykernel)",
   "language": "python",
   "name": "python3"
  },
  "language_info": {
   "codemirror_mode": {
    "name": "ipython",
    "version": 3
   },
   "file_extension": ".py",
   "mimetype": "text/x-python",
   "name": "python",
   "nbconvert_exporter": "python",
   "pygments_lexer": "ipython3",
   "version": "3.12.4"
  }
 },
 "nbformat": 4,
 "nbformat_minor": 5
}
