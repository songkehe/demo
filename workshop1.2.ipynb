{
 "cells": [
  {
   "cell_type": "code",
   "execution_count": 1,
   "id": "3b504a1d-1e07-44e5-bfda-61742e210cdd",
   "metadata": {},
   "outputs": [
    {
     "name": "stdout",
     "output_type": "stream",
     "text": [
      "15\n"
     ]
    }
   ],
   "source": [
    "x = 10\n",
    "x = x + 2\n",
    "y = 3\n",
    "x = x + y\n",
    "print(x)"
   ]
  },
  {
   "cell_type": "code",
   "execution_count": 3,
   "id": "055837d7-4a92-4236-bee3-fd566bc1aee7",
   "metadata": {},
   "outputs": [
    {
     "ename": "ValueError",
     "evalue": "too many values to unpack (expected 1)",
     "output_type": "error",
     "traceback": [
      "\u001b[1;31m---------------------------------------------------------------------------\u001b[0m",
      "\u001b[1;31mValueError\u001b[0m                                Traceback (most recent call last)",
      "Cell \u001b[1;32mIn[3], line 1\u001b[0m\n\u001b[1;32m----> 1\u001b[0m [car] \u001b[38;5;241m=\u001b[39m \u001b[38;5;124m\"\u001b[39m\u001b[38;5;124mhonda\u001b[39m\u001b[38;5;124m\"\u001b[39m\n",
      "\u001b[1;31mValueError\u001b[0m: too many values to unpack (expected 1)"
     ]
    }
   ],
   "source": [
    "[car] = \"honda\""
   ]
  },
  {
   "cell_type": "code",
   "execution_count": 6,
   "id": "36a2a1d0-16ed-4b98-b04f-9703b158193a",
   "metadata": {},
   "outputs": [],
   "source": [
    "a=1\n",
    "\n",
    "b=\"1\""
   ]
  },
  {
   "cell_type": "code",
   "execution_count": 8,
   "id": "c0acfacd-f217-459e-93cc-12864c8a3afb",
   "metadata": {},
   "outputs": [
    {
     "data": {
      "text/plain": [
       "'1'"
      ]
     },
     "execution_count": 8,
     "metadata": {},
     "output_type": "execute_result"
    }
   ],
   "source": [
    "b*a"
   ]
  },
  {
   "cell_type": "code",
   "execution_count": 10,
   "id": "c0a6c399-94cc-4254-afff-192904ea2f80",
   "metadata": {},
   "outputs": [],
   "source": [
    "a=10\n",
    "\n",
    "b=\"1\""
   ]
  },
  {
   "cell_type": "code",
   "execution_count": 12,
   "id": "f93599d9-75ea-4764-9479-1978b4e9e806",
   "metadata": {},
   "outputs": [
    {
     "data": {
      "text/plain": [
       "'1111111111'"
      ]
     },
     "execution_count": 12,
     "metadata": {},
     "output_type": "execute_result"
    }
   ],
   "source": [
    "b*a"
   ]
  },
  {
   "cell_type": "code",
   "execution_count": 15,
   "id": "0c12f5b3-dd78-4eec-a4eb-9a7df33ae8a0",
   "metadata": {},
   "outputs": [
    {
     "name": "stdout",
     "output_type": "stream",
     "text": [
      "6\n"
     ]
    }
   ],
   "source": [
    "v = 27%7\n",
    "\n",
    "print(v)"
   ]
  },
  {
   "cell_type": "code",
   "execution_count": 28,
   "id": "2f9e294b-ee12-4439-8675-4e5faadca877",
   "metadata": {},
   "outputs": [
    {
     "name": "stdout",
     "output_type": "stream",
     "text": [
      "Hello ,My name is hsk,i am 24 years old\n"
     ]
    }
   ],
   "source": [
    "name = 'hsk'\n",
    "age = 24\n",
    "\n",
    "print(f\"Hello ,My name is {name},i am {age} years old\")"
   ]
  },
  {
   "cell_type": "code",
   "execution_count": 42,
   "id": "8cc7fa46-ddbf-412d-9090-78cb2659bc2f",
   "metadata": {},
   "outputs": [
    {
     "name": "stdin",
     "output_type": "stream",
     "text": [
      "first_number 1\n",
      "second_number 2\n"
     ]
    },
    {
     "name": "stdout",
     "output_type": "stream",
     "text": [
      "the totle is 3\n"
     ]
    }
   ],
   "source": [
    "a = input (\"first_number\")\n",
    "b = input (\"second_number\")\n",
    "\n",
    "c = int(a) + int(b)\n",
    "print(f\"the totle is {c}\")"
   ]
  },
  {
   "cell_type": "code",
   "execution_count": null,
   "id": "9421c760-bf7f-4cd7-825e-e78c80686eb2",
   "metadata": {},
   "outputs": [],
   "source": []
  }
 ],
 "metadata": {
  "kernelspec": {
   "display_name": "Python 3 (ipykernel)",
   "language": "python",
   "name": "python3"
  },
  "language_info": {
   "codemirror_mode": {
    "name": "ipython",
    "version": 3
   },
   "file_extension": ".py",
   "mimetype": "text/x-python",
   "name": "python",
   "nbconvert_exporter": "python",
   "pygments_lexer": "ipython3",
   "version": "3.12.4"
  }
 },
 "nbformat": 4,
 "nbformat_minor": 5
}
