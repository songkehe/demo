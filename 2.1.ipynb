{
 "cells": [
  {
   "cell_type": "code",
   "execution_count": 1,
   "id": "19361b7a-469e-401c-b375-e3b205c9c0dc",
   "metadata": {},
   "outputs": [
    {
     "name": "stdout",
     "output_type": "stream",
     "text": [
      "True\n"
     ]
    }
   ],
   "source": [
    "x = 5\n",
    "y = 5\n",
    "print(x==y)"
   ]
  },
  {
   "cell_type": "code",
   "execution_count": 31,
   "id": "1bac2566-28b2-46ba-84d2-a29cbc5715d0",
   "metadata": {},
   "outputs": [],
   "source": [
    "x = 5\n",
    "y = 3"
   ]
  },
  {
   "cell_type": "code",
   "execution_count": 27,
   "id": "974d90eb-72e1-4993-b854-39eee227e722",
   "metadata": {},
   "outputs": [],
   "source": [
    "x = y"
   ]
  },
  {
   "cell_type": "code",
   "execution_count": 7,
   "id": "5bf135ff-3605-410c-ac9a-24549a900418",
   "metadata": {},
   "outputs": [
    {
     "data": {
      "text/plain": [
       "True"
      ]
     },
     "execution_count": 7,
     "metadata": {},
     "output_type": "execute_result"
    }
   ],
   "source": [
    "x ==y"
   ]
  },
  {
   "cell_type": "code",
   "execution_count": 15,
   "id": "8fb74776-5fb3-4247-ad1a-10ebe315ceca",
   "metadata": {},
   "outputs": [
    {
     "data": {
      "text/plain": [
       "True"
      ]
     },
     "execution_count": 15,
     "metadata": {},
     "output_type": "execute_result"
    }
   ],
   "source": [
    "x != y"
   ]
  },
  {
   "cell_type": "code",
   "execution_count": 17,
   "id": "92d6c20b-5ecd-4d74-a8aa-7fd078083766",
   "metadata": {},
   "outputs": [
    {
     "data": {
      "text/plain": [
       "True"
      ]
     },
     "execution_count": 17,
     "metadata": {},
     "output_type": "execute_result"
    }
   ],
   "source": [
    "x > y"
   ]
  },
  {
   "cell_type": "code",
   "execution_count": 19,
   "id": "153806c0-5cd9-4013-99f9-1a300a684028",
   "metadata": {},
   "outputs": [
    {
     "data": {
      "text/plain": [
       "True"
      ]
     },
     "execution_count": 19,
     "metadata": {},
     "output_type": "execute_result"
    }
   ],
   "source": [
    "x >= y"
   ]
  },
  {
   "cell_type": "code",
   "execution_count": 21,
   "id": "4ca7ae2f-f202-415d-b34c-8801da300a87",
   "metadata": {},
   "outputs": [
    {
     "data": {
      "text/plain": [
       "False"
      ]
     },
     "execution_count": 21,
     "metadata": {},
     "output_type": "execute_result"
    }
   ],
   "source": [
    "x < y"
   ]
  },
  {
   "cell_type": "code",
   "execution_count": 29,
   "id": "7f234d48-08d9-4c88-a3b9-c62a40c35aca",
   "metadata": {},
   "outputs": [
    {
     "data": {
      "text/plain": [
       "True"
      ]
     },
     "execution_count": 29,
     "metadata": {},
     "output_type": "execute_result"
    }
   ],
   "source": [
    "x <= y"
   ]
  },
  {
   "cell_type": "code",
   "execution_count": 33,
   "id": "b30f09b3-fd38-466c-8f4c-0aa8da8e6c05",
   "metadata": {},
   "outputs": [
    {
     "name": "stdout",
     "output_type": "stream",
     "text": [
      "True\n"
     ]
    }
   ],
   "source": [
    "print(x > 2 and y < 4)"
   ]
  },
  {
   "cell_type": "code",
   "execution_count": 35,
   "id": "ee195a3e-a877-42df-b549-a2530e00701b",
   "metadata": {},
   "outputs": [],
   "source": [
    "x = 2\n",
    "y = 3"
   ]
  },
  {
   "cell_type": "code",
   "execution_count": 37,
   "id": "f985d10b-77e8-47d9-a577-cb411b221a04",
   "metadata": {},
   "outputs": [
    {
     "name": "stdout",
     "output_type": "stream",
     "text": [
      "False\n"
     ]
    }
   ],
   "source": [
    "print(x > 2 and y < 4)"
   ]
  },
  {
   "cell_type": "code",
   "execution_count": 39,
   "id": "926a5350-801f-43f9-997f-f234c8633cc3",
   "metadata": {},
   "outputs": [],
   "source": [
    "x = 5\n",
    "y = 3"
   ]
  },
  {
   "cell_type": "code",
   "execution_count": 43,
   "id": "9cae667b-883c-4b26-979b-9783b456a417",
   "metadata": {},
   "outputs": [
    {
     "name": "stdout",
     "output_type": "stream",
     "text": [
      "True\n"
     ]
    }
   ],
   "source": [
    "print(x > 2 and y < 4 and (x + y) != 10)"
   ]
  },
  {
   "cell_type": "code",
   "execution_count": 45,
   "id": "db411c51-f02c-4061-b1bd-ae1f4f313bea",
   "metadata": {},
   "outputs": [
    {
     "data": {
      "text/plain": [
       "False"
      ]
     },
     "execution_count": 45,
     "metadata": {},
     "output_type": "execute_result"
    }
   ],
   "source": [
    "2 == 1"
   ]
  },
  {
   "cell_type": "code",
   "execution_count": 47,
   "id": "b40469ff-937e-4036-9135-397ee503d2e7",
   "metadata": {},
   "outputs": [
    {
     "data": {
      "text/plain": [
       "True"
      ]
     },
     "execution_count": 47,
     "metadata": {},
     "output_type": "execute_result"
    }
   ],
   "source": [
    "not 2 == 1"
   ]
  },
  {
   "cell_type": "code",
   "execution_count": 49,
   "id": "ce894930-c9f9-4a22-880b-21dd4d92562c",
   "metadata": {},
   "outputs": [
    {
     "data": {
      "text/plain": [
       "True"
      ]
     },
     "execution_count": 49,
     "metadata": {},
     "output_type": "execute_result"
    }
   ],
   "source": [
    "10 == 10"
   ]
  },
  {
   "cell_type": "code",
   "execution_count": 51,
   "id": "7357a24c-0efc-4a51-a5f0-ee121943f5a9",
   "metadata": {},
   "outputs": [
    {
     "data": {
      "text/plain": [
       "True"
      ]
     },
     "execution_count": 51,
     "metadata": {},
     "output_type": "execute_result"
    }
   ],
   "source": [
    "20 != 15"
   ]
  },
  {
   "cell_type": "code",
   "execution_count": 53,
   "id": "64a2b57c-2e9d-42cf-882a-a9133d050078",
   "metadata": {},
   "outputs": [
    {
     "data": {
      "text/plain": [
       "False"
      ]
     },
     "execution_count": 53,
     "metadata": {},
     "output_type": "execute_result"
    }
   ],
   "source": [
    "7 < 5"
   ]
  },
  {
   "cell_type": "code",
   "execution_count": 55,
   "id": "9151cad8-7e81-4d27-bb26-414464e99695",
   "metadata": {},
   "outputs": [
    {
     "data": {
      "text/plain": [
       "False"
      ]
     },
     "execution_count": 55,
     "metadata": {},
     "output_type": "execute_result"
    }
   ],
   "source": [
    "12 <= 7"
   ]
  },
  {
   "cell_type": "code",
   "execution_count": 57,
   "id": "e6d3b7ad-2ae0-42c0-ab14-a4bc999650f6",
   "metadata": {},
   "outputs": [
    {
     "data": {
      "text/plain": [
       "False"
      ]
     },
     "execution_count": 57,
     "metadata": {},
     "output_type": "execute_result"
    }
   ],
   "source": [
    "8 > 10"
   ]
  },
  {
   "cell_type": "code",
   "execution_count": 59,
   "id": "c41f7421-2c87-4c50-8698-6ba19e944773",
   "metadata": {},
   "outputs": [
    {
     "data": {
      "text/plain": [
       "True"
      ]
     },
     "execution_count": 59,
     "metadata": {},
     "output_type": "execute_result"
    }
   ],
   "source": [
    "10 >= 10"
   ]
  },
  {
   "cell_type": "code",
   "execution_count": 61,
   "id": "386bf47d-c9ef-4b0b-a841-318e847093bd",
   "metadata": {},
   "outputs": [
    {
     "data": {
      "text/plain": [
       "False"
      ]
     },
     "execution_count": 61,
     "metadata": {},
     "output_type": "execute_result"
    }
   ],
   "source": [
    "True and False"
   ]
  },
  {
   "cell_type": "code",
   "execution_count": 65,
   "id": "33e1b68b-ff26-4780-aeaf-51222053f73d",
   "metadata": {},
   "outputs": [
    {
     "data": {
      "text/plain": [
       "True"
      ]
     },
     "execution_count": 65,
     "metadata": {},
     "output_type": "execute_result"
    }
   ],
   "source": [
    "False or True"
   ]
  },
  {
   "cell_type": "code",
   "execution_count": 67,
   "id": "f4869b3b-d0a3-4f7f-9d98-b3856fbf608e",
   "metadata": {},
   "outputs": [
    {
     "data": {
      "text/plain": [
       "False"
      ]
     },
     "execution_count": 67,
     "metadata": {},
     "output_type": "execute_result"
    }
   ],
   "source": [
    "not True"
   ]
  },
  {
   "cell_type": "code",
   "execution_count": 69,
   "id": "621b2c18-e5fc-4341-a2f1-ec2c22a90845",
   "metadata": {},
   "outputs": [
    {
     "data": {
      "text/plain": [
       "True"
      ]
     },
     "execution_count": 69,
     "metadata": {},
     "output_type": "execute_result"
    }
   ],
   "source": [
    "5 == 5 and 5 <= 5"
   ]
  },
  {
   "cell_type": "code",
   "execution_count": 71,
   "id": "810a3a0b-688d-4e14-b5b7-b341be049029",
   "metadata": {},
   "outputs": [
    {
     "data": {
      "text/plain": [
       "True"
      ]
     },
     "execution_count": 71,
     "metadata": {},
     "output_type": "execute_result"
    }
   ],
   "source": [
    "5 == 3 or 5 <= 10"
   ]
  },
  {
   "cell_type": "code",
   "execution_count": 73,
   "id": "29532af0-c7f1-4a3f-ada2-8307bb964679",
   "metadata": {},
   "outputs": [],
   "source": [
    "x = 5\n",
    "y = 3"
   ]
  },
  {
   "cell_type": "code",
   "execution_count": 93,
   "id": "9826d339-d8b3-4d6f-be2a-b3c9c9c13a26",
   "metadata": {},
   "outputs": [
    {
     "name": "stdout",
     "output_type": "stream",
     "text": [
      "x is bigger than y\n"
     ]
    }
   ],
   "source": [
    "if x > y:\n",
    "    print(\"x is bigger than y\")"
   ]
  },
  {
   "cell_type": "code",
   "execution_count": 95,
   "id": "52fa4330-1598-4bd6-ad43-79047c2165ee",
   "metadata": {},
   "outputs": [],
   "source": [
    "if x == y:\n",
    "    print(\"x is bigger than y\")\n",
    "    print(\"This is the last thing to print\")"
   ]
  },
  {
   "cell_type": "code",
   "execution_count": 97,
   "id": "e1426299-0863-4ab2-8e26-7dce46fed10d",
   "metadata": {},
   "outputs": [
    {
     "name": "stdout",
     "output_type": "stream",
     "text": [
      "This is the last thing to print\n"
     ]
    }
   ],
   "source": [
    "if x == y:\n",
    "    print(\"x is bigger than y\")\n",
    "print(\"This is the last thing to print\")"
   ]
  },
  {
   "cell_type": "code",
   "execution_count": 105,
   "id": "5b126e9b-976c-4558-beeb-0b52785c030d",
   "metadata": {},
   "outputs": [
    {
     "name": "stdout",
     "output_type": "stream",
     "text": [
      "adult\n"
     ]
    }
   ],
   "source": [
    "age = 18\n",
    "if age >= 18:\n",
    "    print(\"adult\")"
   ]
  },
  {
   "cell_type": "code",
   "execution_count": 107,
   "id": "2bd7f348-ade6-4283-bae2-b43cd2949592",
   "metadata": {},
   "outputs": [
    {
     "name": "stdout",
     "output_type": "stream",
     "text": [
      "Adult\n",
      "Eligible for voting\n"
     ]
    }
   ],
   "source": [
    "age = 18\n",
    "if age >= 18:\n",
    "    print(\"Adult\")\n",
    "    print(\"Eligible for voting\")"
   ]
  },
  {
   "cell_type": "code",
   "execution_count": 109,
   "id": "c71a3e35-dfb8-4531-8b57-e48def2c45d5",
   "metadata": {},
   "outputs": [
    {
     "name": "stdout",
     "output_type": "stream",
     "text": [
      "x is not equal to y\n",
      "This is the last thing to print\n"
     ]
    }
   ],
   "source": [
    "if x == y:\n",
    "    print(\"x is equal to y\")\n",
    "else:\n",
    "    print(\"x is not equal to y\")\n",
    "\n",
    "print(\"This is the last thing to print\")"
   ]
  },
  {
   "cell_type": "code",
   "execution_count": 1,
   "id": "a764c550-ea5c-4419-854e-8cf7eee84648",
   "metadata": {},
   "outputs": [
    {
     "ename": "KeyboardInterrupt",
     "evalue": "Interrupted by user",
     "output_type": "error",
     "traceback": [
      "\u001b[1;31m---------------------------------------------------------------------------\u001b[0m",
      "\u001b[1;31mKeyboardInterrupt\u001b[0m                         Traceback (most recent call last)",
      "Cell \u001b[1;32mIn[1], line 1\u001b[0m\n\u001b[1;32m----> 1\u001b[0m day_time \u001b[38;5;241m=\u001b[39m \u001b[38;5;28minput\u001b[39m(\u001b[38;5;124m\"\u001b[39m\u001b[38;5;124mwhat is the day_time\u001b[39m\u001b[38;5;124m\"\u001b[39m)\n\u001b[0;32m      2\u001b[0m \u001b[38;5;28;01mif\u001b[39;00m day_time \u001b[38;5;241m==\u001b[39m \u001b[38;5;124m\"\u001b[39m\u001b[38;5;124mmorning\u001b[39m\u001b[38;5;124m\"\u001b[39m:\n\u001b[0;32m      3\u001b[0m     \u001b[38;5;28mprint\u001b[39m(\u001b[38;5;124m\"\u001b[39m\u001b[38;5;124mGood morning!\u001b[39m\u001b[38;5;124m\"\u001b[39m)\n",
      "File \u001b[1;32mD:\\anaconda\\Lib\\site-packages\\ipykernel\\kernelbase.py:1262\u001b[0m, in \u001b[0;36mKernel.raw_input\u001b[1;34m(self, prompt)\u001b[0m\n\u001b[0;32m   1260\u001b[0m     msg \u001b[38;5;241m=\u001b[39m \u001b[38;5;124m\"\u001b[39m\u001b[38;5;124mraw_input was called, but this frontend does not support input requests.\u001b[39m\u001b[38;5;124m\"\u001b[39m\n\u001b[0;32m   1261\u001b[0m     \u001b[38;5;28;01mraise\u001b[39;00m StdinNotImplementedError(msg)\n\u001b[1;32m-> 1262\u001b[0m \u001b[38;5;28;01mreturn\u001b[39;00m \u001b[38;5;28mself\u001b[39m\u001b[38;5;241m.\u001b[39m_input_request(\n\u001b[0;32m   1263\u001b[0m     \u001b[38;5;28mstr\u001b[39m(prompt),\n\u001b[0;32m   1264\u001b[0m     \u001b[38;5;28mself\u001b[39m\u001b[38;5;241m.\u001b[39m_parent_ident[\u001b[38;5;124m\"\u001b[39m\u001b[38;5;124mshell\u001b[39m\u001b[38;5;124m\"\u001b[39m],\n\u001b[0;32m   1265\u001b[0m     \u001b[38;5;28mself\u001b[39m\u001b[38;5;241m.\u001b[39mget_parent(\u001b[38;5;124m\"\u001b[39m\u001b[38;5;124mshell\u001b[39m\u001b[38;5;124m\"\u001b[39m),\n\u001b[0;32m   1266\u001b[0m     password\u001b[38;5;241m=\u001b[39m\u001b[38;5;28;01mFalse\u001b[39;00m,\n\u001b[0;32m   1267\u001b[0m )\n",
      "File \u001b[1;32mD:\\anaconda\\Lib\\site-packages\\ipykernel\\kernelbase.py:1305\u001b[0m, in \u001b[0;36mKernel._input_request\u001b[1;34m(self, prompt, ident, parent, password)\u001b[0m\n\u001b[0;32m   1302\u001b[0m \u001b[38;5;28;01mexcept\u001b[39;00m \u001b[38;5;167;01mKeyboardInterrupt\u001b[39;00m:\n\u001b[0;32m   1303\u001b[0m     \u001b[38;5;66;03m# re-raise KeyboardInterrupt, to truncate traceback\u001b[39;00m\n\u001b[0;32m   1304\u001b[0m     msg \u001b[38;5;241m=\u001b[39m \u001b[38;5;124m\"\u001b[39m\u001b[38;5;124mInterrupted by user\u001b[39m\u001b[38;5;124m\"\u001b[39m\n\u001b[1;32m-> 1305\u001b[0m     \u001b[38;5;28;01mraise\u001b[39;00m \u001b[38;5;167;01mKeyboardInterrupt\u001b[39;00m(msg) \u001b[38;5;28;01mfrom\u001b[39;00m \u001b[38;5;28;01mNone\u001b[39;00m\n\u001b[0;32m   1306\u001b[0m \u001b[38;5;28;01mexcept\u001b[39;00m \u001b[38;5;167;01mException\u001b[39;00m:\n\u001b[0;32m   1307\u001b[0m     \u001b[38;5;28mself\u001b[39m\u001b[38;5;241m.\u001b[39mlog\u001b[38;5;241m.\u001b[39mwarning(\u001b[38;5;124m\"\u001b[39m\u001b[38;5;124mInvalid Message:\u001b[39m\u001b[38;5;124m\"\u001b[39m, exc_info\u001b[38;5;241m=\u001b[39m\u001b[38;5;28;01mTrue\u001b[39;00m)\n",
      "\u001b[1;31mKeyboardInterrupt\u001b[0m: Interrupted by user"
     ]
    }
   ],
   "source": [
    "day_time = input(\"what is the day_time\")\n",
    "if day_time == \"morning\":\n",
    "    print(\"Good morning!\")\n",
    "else:\n",
    "    print(f\"Good {day_time}!\")   "
   ]
  },
  {
   "cell_type": "code",
   "execution_count": 141,
   "id": "832d2089-b736-4e02-be30-8168171ee802",
   "metadata": {},
   "outputs": [
    {
     "name": "stdout",
     "output_type": "stream",
     "text": [
      "Good Morning!\n"
     ]
    }
   ],
   "source": [
    "day_time = \"morning\"\n",
    "if day_time == \"morning\":\n",
    "    print(\"Good Morning!\")\n",
    "if day_time == \"aftenoon\":\n",
    "    print(\"Good Afteroon!\")\n",
    "if day_time == \"evening\":\n",
    "    print(\"Good Evening!\")\n",
    "if day_time == \"night\":\n",
    "    print(\"Good Night!\")"
   ]
  },
  {
   "cell_type": "code",
   "execution_count": 145,
   "id": "c741204c-1255-4591-9e44-4af5d51e8cad",
   "metadata": {},
   "outputs": [
    {
     "name": "stdout",
     "output_type": "stream",
     "text": [
      "Good Morning!\n"
     ]
    }
   ],
   "source": [
    "day_time = \"morning\"\n",
    "\n",
    "if day_time == \"morning\":\n",
    "    print(\"Good Morning!\")\n",
    "elif day_time == \"aftenoon\":\n",
    "    print(\"Good Afteroon!\")\n",
    "elif day_time == \"evening\":\n",
    "    print(\"Good Evening!\")\n",
    "else: \n",
    "    print(\"Good Night!\")"
   ]
  },
  {
   "cell_type": "code",
   "execution_count": 149,
   "id": "754347a8-d817-4288-ad64-5c3ddfcb5b95",
   "metadata": {},
   "outputs": [
    {
     "name": "stdout",
     "output_type": "stream",
     "text": [
      "I do not know\n"
     ]
    }
   ],
   "source": [
    "day_time = \"111\"\n",
    "if day_time == \"morning\":\n",
    "    print(\"Good Morning!\")\n",
    "elif day_time == \"aftenoon\":\n",
    "    print(\"Good Afteroon!\")\n",
    "elif day_time == \"evening\":\n",
    "    print(\"Good Evening!\")\n",
    "elif day_time == \"night\":\n",
    "    print(\"Good Night!\")\n",
    "else:\n",
    "    print(\"I do not know\")"
   ]
  },
  {
   "cell_type": "code",
   "execution_count": 11,
   "id": "62228d69-4aad-436d-ac04-83ab080cbacf",
   "metadata": {},
   "outputs": [
    {
     "name": "stdout",
     "output_type": "stream",
     "text": [
      "Product price 1900 \n",
      "After discount price: 1615.0\n"
     ]
    }
   ],
   "source": [
    "total_purchase_amuant = 1900\n",
    "\n",
    "if total_purchase_amuant < 50:\n",
    "    discount = 0\n",
    "elif total_purchase_amuant < 100:\n",
    "    discount = 5\n",
    "elif total_purchase_amuant < 200:\n",
    "    discount = 10\n",
    "else:\n",
    "    discount = 15\n",
    "\n",
    "total_after_amuant = total_purchase_amuant - (total_purchase_amuant * discount) / 100\n",
    "\n",
    "print(f\"Product price {total_purchase_amuant} \\nAfter discount price: {total_after_amuant}\")"
   ]
  },
  {
   "cell_type": "code",
   "execution_count": 7,
   "id": "a15cc84f-1cb4-4f35-bcb2-41079032b239",
   "metadata": {},
   "outputs": [
    {
     "name": "stdout",
     "output_type": "stream",
     "text": [
      "Formal attire with coat.\n"
     ]
    }
   ],
   "source": [
    "weather = \"rainy\"\n",
    "event_type = \"formal\"\n",
    "if weather == \"sunny\" and event_type == \"casual\":\n",
    "    print(\"T-shirt and shorts.\")\n",
    "elif weather == \"sunny\" and event_type == \"formal\":\n",
    "    print(\"Summer suit.\")\n",
    "elif (weather == \"rainy\" or weather == \"snowy\") and event_type == \"casual\":\n",
    "    print(\"Waterproof jacket and jean.\")\n",
    "else:\n",
    "    print(\"Formal attire with coat.\")"
   ]
  },
  {
   "cell_type": "code",
   "execution_count": 17,
   "id": "a319fb0a-742a-4c4f-aae2-d7731b5e50ef",
   "metadata": {},
   "outputs": [
    {
     "name": "stdout",
     "output_type": "stream",
     "text": [
      "picnic\n"
     ]
    }
   ],
   "source": [
    "weather = \"sunny\"\n",
    "if weather == \"sunny\":\n",
    "    activity = \"picnic\"\n",
    "else:\n",
    "    activity = \"indoor gamen\"\n",
    "\n",
    "print (activity)"
   ]
  },
  {
   "cell_type": "code",
   "execution_count": 19,
   "id": "368b94fb-91a7-4748-9c83-f1f1f5a43b2b",
   "metadata": {},
   "outputs": [
    {
     "name": "stdout",
     "output_type": "stream",
     "text": [
      "indoor game\n"
     ]
    }
   ],
   "source": [
    "weather = \"rainy\"\n",
    "activity = \"picnic\" if weather == \"sunny\" else \"indoor game\"\n",
    "print(activity)"
   ]
  },
  {
   "cell_type": "code",
   "execution_count": 21,
   "id": "f1eeb161-361e-4796-a712-b45209b868a1",
   "metadata": {},
   "outputs": [
    {
     "data": {
      "text/plain": [
       "4.0"
      ]
     },
     "execution_count": 21,
     "metadata": {},
     "output_type": "execute_result"
    }
   ],
   "source": [
    "16/4"
   ]
  },
  {
   "cell_type": "code",
   "execution_count": 23,
   "id": "28d1fa76-4ff1-4020-ba01-cfeaaf0e3f5e",
   "metadata": {},
   "outputs": [
    {
     "data": {
      "text/plain": [
       "4"
      ]
     },
     "execution_count": 23,
     "metadata": {},
     "output_type": "execute_result"
    }
   ],
   "source": [
    "16//4"
   ]
  },
  {
   "cell_type": "code",
   "execution_count": 33,
   "id": "65ef5f25-10d3-4787-b3f5-a1f802aa547c",
   "metadata": {},
   "outputs": [
    {
     "name": "stdout",
     "output_type": "stream",
     "text": [
      "The area of rectangle is: 18\n"
     ]
    }
   ],
   "source": [
    "length = 6\n",
    "width = -3\n",
    "area = length * width\n",
    "area = area if area > 0 else -1 * area\n",
    "print(\"The area of rectangle is:\" , area)"
   ]
  },
  {
   "cell_type": "code",
   "execution_count": null,
   "id": "01562529-e88a-4111-b31b-d8689c5481f2",
   "metadata": {},
   "outputs": [],
   "source": []
  }
 ],
 "metadata": {
  "kernelspec": {
   "display_name": "Python 3 (ipykernel)",
   "language": "python",
   "name": "python3"
  },
  "language_info": {
   "codemirror_mode": {
    "name": "ipython",
    "version": 3
   },
   "file_extension": ".py",
   "mimetype": "text/x-python",
   "name": "python",
   "nbconvert_exporter": "python",
   "pygments_lexer": "ipython3",
   "version": "3.12.4"
  }
 },
 "nbformat": 4,
 "nbformat_minor": 5
}
