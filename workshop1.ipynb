{
 "cells": [
  {
   "cell_type": "code",
   "execution_count": 1,
   "id": "9186eb06-87c8-4d74-b861-cb07060ceb43",
   "metadata": {},
   "outputs": [
    {
     "name": "stdout",
     "output_type": "stream",
     "text": [
      "Help on built-in function print in module builtins:\n",
      "\n",
      "print(*args, sep=' ', end='\\n', file=None, flush=False)\n",
      "    Prints the values to a stream, or to sys.stdout by default.\n",
      "\n",
      "    sep\n",
      "      string inserted between values, default a space.\n",
      "    end\n",
      "      string appended after the last value, default a newline.\n",
      "    file\n",
      "      a file-like object (stream); defaults to the current sys.stdout.\n",
      "    flush\n",
      "      whether to forcibly flush the stream.\n",
      "\n"
     ]
    }
   ],
   "source": [
    "help(print)"
   ]
  },
  {
   "cell_type": "code",
   "execution_count": 5,
   "id": "3fcbff21-d782-4be2-b793-12d0ad147329",
   "metadata": {},
   "outputs": [
    {
     "name": "stdout",
     "output_type": "stream",
     "text": [
      "9 decemnber 1999\n"
     ]
    }
   ],
   "source": [
    "birth_date = \"9 decemnber 1999\"\n",
    "print(birth_date)"
   ]
  },
  {
   "cell_type": "code",
   "execution_count": 13,
   "id": "d85da3ff-d6e6-49fe-81e0-470f89d6a91e",
   "metadata": {},
   "outputs": [
    {
     "name": "stdout",
     "output_type": "stream",
     "text": [
      "Hello!\\how are you?\\I love programming\n"
     ]
    }
   ],
   "source": [
    "my_string = \"Hello!\\\\how are you?\\\\I love programming\"\n",
    "print (my_string)"
   ]
  },
  {
   "cell_type": "code",
   "execution_count": 20,
   "id": "f8f3b018-b2d8-40b5-8b63-e5c21d021efc",
   "metadata": {},
   "outputs": [
    {
     "name": "stdout",
     "output_type": "stream",
     "text": [
      "Hello!\\how are you?\\I love programming\n"
     ]
    }
   ],
   "source": [
    "print(\"Hello!\", \"how are you?\", \"I love programming\", sep=\"\\\\\")"
   ]
  },
  {
   "cell_type": "code",
   "execution_count": null,
   "id": "cb34cc1a-b04a-4496-93a2-681051895e3b",
   "metadata": {},
   "outputs": [],
   "source": [
    "user_FirstName = input(\"what is your first name\")\n",
    "user_secondName = input(\"what is your second name\")\n",
    "user_age = input(\"what is your age\")\n",
    "user_height = input(\"what is your height\")\n",
    "print(f\"Hello {user_FirstName} {user_secondName} {user_age} {user_height}\")"
   ]
  },
  {
   "cell_type": "code",
   "execution_count": 15,
   "id": "a3045f42-18be-4f47-a5b6-dd2435875229",
   "metadata": {},
   "outputs": [
    {
     "name": "stdout",
     "output_type": "stream",
     "text": [
      "Hello he\n"
     ]
    }
   ],
   "source": [
    "print(f\"Hello {user_FirstName}\")"
   ]
  },
  {
   "cell_type": "code",
   "execution_count": 17,
   "id": "c9a1d406-1559-41a0-babf-7e9e94ddd9d9",
   "metadata": {},
   "outputs": [
    {
     "name": "stdout",
     "output_type": "stream",
     "text": [
      "Hello he songke\n"
     ]
    }
   ],
   "source": [
    "print(f\"Hello {user_FirstName} {user_secondName}\")"
   ]
  },
  {
   "cell_type": "code",
   "execution_count": 19,
   "id": "fe9fb85c-dc30-4cbe-9547-a53edb903985",
   "metadata": {},
   "outputs": [
    {
     "name": "stdout",
     "output_type": "stream",
     "text": [
      "Hello he songke 24 180cm\n"
     ]
    }
   ],
   "source": [
    "print(f\"Hello {user_FirstName} {user_secondName} {user_age} {user_height}\")"
   ]
  },
  {
   "cell_type": "code",
   "execution_count": 4,
   "id": "b37f1071-8a0d-4ec1-a196-119c52e08237",
   "metadata": {},
   "outputs": [
    {
     "ename": "NameError",
     "evalue": "name 'user_FirstName' is not defined",
     "output_type": "error",
     "traceback": [
      "\u001b[1;31m---------------------------------------------------------------------------\u001b[0m",
      "\u001b[1;31mNameError\u001b[0m                                 Traceback (most recent call last)",
      "Cell \u001b[1;32mIn[4], line 1\u001b[0m\n\u001b[1;32m----> 1\u001b[0m \u001b[38;5;28mprint\u001b[39m(\u001b[38;5;124mf\u001b[39m\u001b[38;5;124m\"\"\"\u001b[39m\u001b[38;5;124mHello \u001b[39m\u001b[38;5;132;01m{\u001b[39;00muser_FirstName\u001b[38;5;132;01m}\u001b[39;00m\u001b[38;5;124m \u001b[39m\u001b[38;5;132;01m{\u001b[39;00muser_secondName\u001b[38;5;132;01m}\u001b[39;00m\u001b[38;5;124m,you are \u001b[39m\u001b[38;5;132;01m{\u001b[39;00muser_age\u001b[38;5;132;01m}\u001b[39;00m\u001b[38;5;124m years old and your height is \u001b[39m\u001b[38;5;132;01m{\u001b[39;00muser_height\u001b[38;5;132;01m}\u001b[39;00m\u001b[38;5;124m\"\"\"\u001b[39m)\n",
      "\u001b[1;31mNameError\u001b[0m: name 'user_FirstName' is not defined"
     ]
    }
   ],
   "source": [
    "print(f\"\"\"Hello {user_FirstName} {user_secondName},you are {user_age} years old and your height is {user_height}\"\"\")"
   ]
  },
  {
   "cell_type": "markdown",
   "id": "5728bbdd-a994-45e1-9b83-76f1c5c0ffe7",
   "metadata": {},
   "source": [
    "# *Heading One*"
   ]
  },
  {
   "cell_type": "markdown",
   "id": "458b6968-497b-40cf-aa77-069a1d354c42",
   "metadata": {},
   "source": [
    "## Heading Two"
   ]
  },
  {
   "cell_type": "markdown",
   "id": "a7c2fe49-e5f9-413d-bda7-1296f71a6225",
   "metadata": {},
   "source": [
    "### Heading Three"
   ]
  },
  {
   "cell_type": "markdown",
   "id": "9567ebca-ebd4-4b5f-9c8c-25a1c9900765",
   "metadata": {},
   "source": [
    "#### Heading four"
   ]
  },
  {
   "cell_type": "markdown",
   "id": "8a2b8a25-fb27-4ff6-932c-ab234def6762",
   "metadata": {},
   "source": [
    "##### Heading Five"
   ]
  },
  {
   "cell_type": "markdown",
   "id": "dedac2c9-244d-4efb-a09b-405ae1236728",
   "metadata": {},
   "source": [
    "###### Heading Six"
   ]
  },
  {
   "cell_type": "markdown",
   "id": "0a9a6d00-c86a-4a5c-9bfc-ec85d25e71f6",
   "metadata": {},
   "source": [
    "## Dot Point\n",
    "* One(asterisk+space for 1st level)\n",
    "    * Sublist\n",
    "        * This\n",
    "    * Sublist\n",
    "        * That\n",
    "            * and this\n",
    "        * The other thing\n",
    "* Two\n",
    "    * Sublist\n",
    "* Three\n",
    "    * Sublist"
   ]
  },
  {
   "cell_type": "markdown",
   "id": "709ded83-c2fc-4a34-8c85-e5f44a730a7e",
   "metadata": {},
   "source": [
    "1. Here we go (number+dot+space for all levels)\n",
    "    1. Sublist\n",
    "        1. next level\n",
    "    2. Sublist\n",
    "2. There we go\n",
    "3. Now this"
   ]
  },
  {
   "cell_type": "markdown",
   "id": "7d6069db-59d8-4f20-adc5-34c2cb3df20b",
   "metadata": {},
   "source": [
    "* [x] Complete\n",
    "* [ ] practic"
   ]
  },
  {
   "cell_type": "markdown",
   "id": "b0faa0ad-af89-4803-9442-cf50fe1a221c",
   "metadata": {},
   "source": [
    "***"
   ]
  },
  {
   "cell_type": "markdown",
   "id": "364bbd64-b53e-49a7-86d7-6815e71c18aa",
   "metadata": {},
   "source": [
    "Here is a blockquote\n",
    "\n",
    ">Beautiful is better than ugly\n",
    ">"
   ]
  },
  {
   "cell_type": "markdown",
   "id": "c3d00f99-2846-4fd8-8703-606413231716",
   "metadata": {},
   "source": [
    "Click [here](https://www.google.com.au/) to go to google"
   ]
  },
  {
   "cell_type": "markdown",
   "id": "b9340348-709c-4179-9984-1e95a809d638",
   "metadata": {},
   "source": [
    "    ```python\n",
    "    print(\"Hello World\")\n",
    "    ```\n",
    "\n",
    "```python\n",
    "print(\"Hello World\")\n",
    "```"
   ]
  },
  {
   "cell_type": "markdown",
   "id": "35a912bd-05d8-40c7-8da0-5949a5167105",
   "metadata": {},
   "source": [
    "This is def example for code:\n",
    "\n",
    "    def f(x):\n",
    "        \"\"\"a docstring\"\"\"\n",
    "        return x**2\n",
    " \n",
    "    def f(x):\n",
    "        \"\"\"a docstring\"\"\"\n",
    "        return x**2\n",
    "\n"
   ]
  },
  {
   "cell_type": "markdown",
   "id": "fd7bb4c2-a2a3-404e-aad8-1afac43f84a0",
   "metadata": {},
   "source": [
    "\n",
    "\n",
    "$e^{i\\pi} +1 =0$"
   ]
  },
  {
   "cell_type": "markdown",
   "id": "2ae6d0b6-078a-4adb-a8aa-a6bba588a4a2",
   "metadata": {},
   "source": [
    "# Math Symbol\n",
    "\n",
    "\\begin{equation}\n",
    "e^x=\\sum_{i=0}^\\infty \\frac{1}{i!}x^i\n",
    "\\end{equation}"
   ]
  },
  {
   "cell_type": "markdown",
   "id": "6e9da7bb-49cd-4252-b670-7bf3189e798b",
   "metadata": {},
   "source": [
    "# Math Symbol\n",
    "\n",
    "\\begin{equation}\n",
    "e^x=\\sum_{i=0}^\\infty \\frac{1}{i!}x^i\n",
    "\\end{equation}"
   ]
  },
  {
   "cell_type": "markdown",
   "id": "0a690904-e2ff-4d21-99b3-3ecaddade9e0",
   "metadata": {},
   "source": [
    "\n",
    "    | This | is   |\n",
    "    |------|------|\n",
    "    |   a  | table|\n",
    "\n",
    "\n",
    "| This | is   |\n",
    "|------|------|\n",
    "|   a  | table|"
   ]
  },
  {
   "cell_type": "markdown",
   "id": "e1b1e0fb-8fd8-4b84-9176-da3c3dc8498f",
   "metadata": {},
   "source": [
    "<table>\n",
    "\n",
    "<tr>\n",
    "<th>  Header 1  </th>\n",
    "<th>  Header 2  </th>\n",
    "</tr>\n",
    "<tr>\n",
    "<td> row 1,cell 1 </td>\n",
    "<td> row 1,cell 2 </td>\n",
    "</tr>\n",
    "<tr>\n",
    "<td> row 2,cell 1 </td>\n",
    "<td> row 2,cell 2 </td>\n",
    "</tr>\n",
    "\n",
    "</table>"
   ]
  },
  {
   "cell_type": "markdown",
   "id": "229f9a0d-d471-469a-bcc5-6045f71e72ce",
   "metadata": {},
   "source": [
    "    [subdirectory/]<filenamen>\n",
    "\n",
    "\n",
    "<img src=\"./adelaide.png\" width=\"100\" height=\"100\"/>\n",
    "\n",
    "<video controls src=\"../images/animation.m4v\">\n",
    "\n",
    "<video controls src=\"../images/animation.m4v\">"
   ]
  },
  {
   "cell_type": "code",
   "execution_count": null,
   "id": "67bbc8bc-fdcc-48ef-bab3-56081876fe4f",
   "metadata": {},
   "outputs": [],
   "source": []
  }
 ],
 "metadata": {
  "kernelspec": {
   "display_name": "Python 3 (ipykernel)",
   "language": "python",
   "name": "python3"
  },
  "language_info": {
   "codemirror_mode": {
    "name": "ipython",
    "version": 3
   },
   "file_extension": ".py",
   "mimetype": "text/x-python",
   "name": "python",
   "nbconvert_exporter": "python",
   "pygments_lexer": "ipython3",
   "version": "3.12.4"
  }
 },
 "nbformat": 4,
 "nbformat_minor": 5
}
