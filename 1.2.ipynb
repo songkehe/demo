{
 "cells": [
  {
   "cell_type": "markdown",
   "id": "29189242-2e9c-4bee-a16a-469b3c658bdf",
   "metadata": {},
   "source": [
    "# Project Title"
   ]
  },
  {
   "cell_type": "markdown",
   "id": "36e5b6b6-7fe9-49b4-97b2-1037fd1f07f3",
   "metadata": {},
   "source": [
    "## Number Calculation\n",
    "there are ***calculateion avemple***"
   ]
  },
  {
   "cell_type": "code",
   "execution_count": 2,
   "id": "0230b803-02bc-40aa-a465-f18c1ddd0b1c",
   "metadata": {},
   "outputs": [
    {
     "data": {
      "text/plain": [
       "12"
      ]
     },
     "execution_count": 2,
     "metadata": {},
     "output_type": "execute_result"
    }
   ],
   "source": [
    "10 + 2"
   ]
  },
  {
   "cell_type": "code",
   "execution_count": null,
   "id": "e317ae70-32d6-4b64-a2e1-0b1682e5dc64",
   "metadata": {},
   "outputs": [],
   "source": []
  },
  {
   "cell_type": "markdown",
   "id": "b2513f7e-20f8-4bf4-b551-16c5a62d0e55",
   "metadata": {},
   "source": [
    "### Example on Print Text \n",
    "_this is main title of my project_"
   ]
  },
  {
   "cell_type": "code",
   "execution_count": 2,
   "id": "d9fa9cd2-30de-4d8f-948a-1b773e7efa8f",
   "metadata": {},
   "outputs": [
    {
     "name": "stdout",
     "output_type": "stream",
     "text": [
      "Hello Jupyterlab\n"
     ]
    }
   ],
   "source": [
    "print(\"Hello Jupyterlab\")"
   ]
  },
  {
   "cell_type": "code",
   "execution_count": 8,
   "id": "c7e46f58-a2ef-498e-a25d-9825a137086a",
   "metadata": {},
   "outputs": [
    {
     "name": "stdout",
     "output_type": "stream",
     "text": [
      "5\n"
     ]
    }
   ],
   "source": [
    "print(5)"
   ]
  },
  {
   "cell_type": "markdown",
   "id": "c8bc0079-285a-483a-8ec2-dcbaf7327dd7",
   "metadata": {},
   "source": [
    "## Numbered List\n",
    "\n",
    "1. First item\n",
    "2. Second item\n",
    "3. Third item\n",
    "\n",
    "       3.1 Sub item 1\n",
    "\n",
    "       3.2 Sub item 2"
   ]
  },
  {
   "cell_type": "markdown",
   "id": "6c55cfdc-3163-496f-bfaf-33a745ae0fbe",
   "metadata": {},
   "source": [
    "# Numbered List\n",
    "\n",
    "1. First item\n",
    "2. Second item\n",
    "3. Third item\n",
    "    1. Sub item 3.1\n",
    "    2. Sub item 3.2\n",
    "   "
   ]
  },
  {
   "cell_type": "markdown",
   "id": "f7b3e84a-ee4e-461d-9957-1a22667204e5",
   "metadata": {},
   "source": [
    "# Dot Points\n",
    "\n",
    "* Point 1\n",
    "* Point 2\n",
    "    * Subpoint 2.0\n",
    "    * Subpoint 2.1\n",
    "    * Subpoint 2.2"
   ]
  },
  {
   "cell_type": "markdown",
   "id": "2235253a-b81f-4e20-a385-d8557c5348ac",
   "metadata": {},
   "source": [
    "# Project Title\n",
    "\n",
    "_This is the main title of my project_\n",
    "\n",
    "***This is the main title of my project***\n",
    "\n",
    "This is the _main title_ of my project"
   ]
  },
  {
   "cell_type": "markdown",
   "id": "60bf4dbc-2d54-4f3d-9d67-b01d27bd8c51",
   "metadata": {},
   "source": [
    "# Line\n",
    "\n",
    "\n",
    "\n",
    "***"
   ]
  },
  {
   "cell_type": "markdown",
   "id": "7968a238-ea07-464e-b175-2c1393d213a0",
   "metadata": {},
   "source": [
    "# Math Symbols\n",
    "\n",
    "$X = 5^2$"
   ]
  },
  {
   "cell_type": "code",
   "execution_count": 34,
   "id": "c7eae7de-d718-49f6-a6fa-f05899afa70e",
   "metadata": {},
   "outputs": [
    {
     "data": {
      "text/plain": [
       "25"
      ]
     },
     "execution_count": 34,
     "metadata": {},
     "output_type": "execute_result"
    }
   ],
   "source": [
    "5 ** 2"
   ]
  },
  {
   "cell_type": "markdown",
   "id": "c8823d76-3990-406d-b9ee-e1bec77ba1a8",
   "metadata": {},
   "source": [
    "Click [here](1.1.ipynb) to open other report"
   ]
  },
  {
   "cell_type": "code",
   "execution_count": 81,
   "id": "0adf7d30-59f5-4bcb-8628-3f77595ed77a",
   "metadata": {},
   "outputs": [
    {
     "name": "stdout",
     "output_type": "stream",
     "text": [
      "Double quotes\n",
      "single quotes\n",
      "20\n",
      "20\n",
      "10+10\n"
     ]
    }
   ],
   "source": [
    "print(\"Double quotes\")\n",
    "\n",
    "print('single quotes')\n",
    "\n",
    "print(10 + 10)\n",
    "\n",
    "print(10 * 2)\n",
    "\n",
    "print(\"10+10\")"
   ]
  },
  {
   "cell_type": "code",
   "execution_count": 50,
   "id": "8e65f6f8-7a00-4b6b-9a21-c59810624fa5",
   "metadata": {},
   "outputs": [
    {
     "data": {
      "text/plain": [
       "\u001b[1;31mSignature:\u001b[0m \u001b[0mprint\u001b[0m\u001b[1;33m(\u001b[0m\u001b[1;33m*\u001b[0m\u001b[0margs\u001b[0m\u001b[1;33m,\u001b[0m \u001b[0msep\u001b[0m\u001b[1;33m=\u001b[0m\u001b[1;34m' '\u001b[0m\u001b[1;33m,\u001b[0m \u001b[0mend\u001b[0m\u001b[1;33m=\u001b[0m\u001b[1;34m'\\n'\u001b[0m\u001b[1;33m,\u001b[0m \u001b[0mfile\u001b[0m\u001b[1;33m=\u001b[0m\u001b[1;32mNone\u001b[0m\u001b[1;33m,\u001b[0m \u001b[0mflush\u001b[0m\u001b[1;33m=\u001b[0m\u001b[1;32mFalse\u001b[0m\u001b[1;33m)\u001b[0m\u001b[1;33m\u001b[0m\u001b[1;33m\u001b[0m\u001b[0m\n",
       "\u001b[1;31mDocstring:\u001b[0m\n",
       "Prints the values to a stream, or to sys.stdout by default.\n",
       "\n",
       "sep\n",
       "  string inserted between values, default a space.\n",
       "end\n",
       "  string appended after the last value, default a newline.\n",
       "file\n",
       "  a file-like object (stream); defaults to the current sys.stdout.\n",
       "flush\n",
       "  whether to forcibly flush the stream.\n",
       "\u001b[1;31mType:\u001b[0m      builtin_function_or_method"
      ]
     },
     "metadata": {},
     "output_type": "display_data"
    }
   ],
   "source": [
    "?print"
   ]
  },
  {
   "cell_type": "code",
   "execution_count": 52,
   "id": "3c98ff43-02f1-4628-85d0-527c9d24d8b7",
   "metadata": {},
   "outputs": [
    {
     "data": {
      "text/plain": [
       "\u001b[1;31mSignature:\u001b[0m \u001b[0mlen\u001b[0m\u001b[1;33m(\u001b[0m\u001b[0mobj\u001b[0m\u001b[1;33m,\u001b[0m \u001b[1;33m/\u001b[0m\u001b[1;33m)\u001b[0m\u001b[1;33m\u001b[0m\u001b[1;33m\u001b[0m\u001b[0m\n",
       "\u001b[1;31mDocstring:\u001b[0m Return the number of items in a container.\n",
       "\u001b[1;31mType:\u001b[0m      builtin_function_or_method"
      ]
     },
     "metadata": {},
     "output_type": "display_data"
    }
   ],
   "source": [
    "?len"
   ]
  },
  {
   "cell_type": "code",
   "execution_count": 56,
   "id": "b5d0db7f-e92e-4c7d-8512-1afaafb8c12a",
   "metadata": {},
   "outputs": [
    {
     "data": {
      "text/plain": [
       "13"
      ]
     },
     "execution_count": 56,
     "metadata": {},
     "output_type": "execute_result"
    }
   ],
   "source": [
    "len(\"Double quotes\")"
   ]
  },
  {
   "cell_type": "code",
   "execution_count": 60,
   "id": "fbbaa725-9ac4-4da3-a2d7-5c7979c24743",
   "metadata": {},
   "outputs": [],
   "source": [
    "firstVariable = \"Hello world from Jupyter\""
   ]
  },
  {
   "cell_type": "code",
   "execution_count": 62,
   "id": "95ba6d98-535a-40e5-86da-5d0f83f306d7",
   "metadata": {},
   "outputs": [
    {
     "data": {
      "text/plain": [
       "'Hello world from Jupyter'"
      ]
     },
     "execution_count": 62,
     "metadata": {},
     "output_type": "execute_result"
    }
   ],
   "source": [
    "firstVariable"
   ]
  },
  {
   "cell_type": "code",
   "execution_count": 64,
   "id": "557b0253-6776-41eb-a487-3e3a0c7170ce",
   "metadata": {},
   "outputs": [
    {
     "data": {
      "text/plain": [
       "24"
      ]
     },
     "execution_count": 64,
     "metadata": {},
     "output_type": "execute_result"
    }
   ],
   "source": [
    "len(firstVariable)"
   ]
  },
  {
   "cell_type": "code",
   "execution_count": 62,
   "id": "15d9b7e9-2b3e-4aae-840c-3ca69edd99ab",
   "metadata": {},
   "outputs": [],
   "source": [
    "myNumber = 10\n",
    "mySecondNumber = 20"
   ]
  },
  {
   "cell_type": "code",
   "execution_count": 68,
   "id": "2cf61309-5f4b-4bc6-9ff9-493320a8dd54",
   "metadata": {},
   "outputs": [
    {
     "name": "stdout",
     "output_type": "stream",
     "text": [
      "30\n"
     ]
    }
   ],
   "source": [
    "print(myNumber + mySecondNumber)"
   ]
  },
  {
   "cell_type": "code",
   "execution_count": null,
   "id": "fe0a76ae-7d1e-490b-9b27-7632d15d1da5",
   "metadata": {},
   "outputs": [],
   "source": []
  }
 ],
 "metadata": {
  "kernelspec": {
   "display_name": "Python 3 (ipykernel)",
   "language": "python",
   "name": "python3"
  },
  "language_info": {
   "codemirror_mode": {
    "name": "ipython",
    "version": 3
   },
   "file_extension": ".py",
   "mimetype": "text/x-python",
   "name": "python",
   "nbconvert_exporter": "python",
   "pygments_lexer": "ipython3",
   "version": "3.12.4"
  }
 },
 "nbformat": 4,
 "nbformat_minor": 5
}
